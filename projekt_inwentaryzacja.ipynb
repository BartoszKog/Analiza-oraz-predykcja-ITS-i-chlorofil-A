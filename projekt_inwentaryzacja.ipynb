{
 "cells": [
  {
   "cell_type": "markdown",
   "metadata": {},
   "source": [
    "---\n",
    "title: \"Analiza Danych oraz Predykcja ITS i Chlorofilu A\"\n",
    "author: \n",
    "    - name: \"Bartosz Kogutowicz\"\n",
    "    - name: \"Jakub Jaśkiewicz\"\n",
    "date: now\n",
    "format: \n",
    "    html:\n",
    "        theme: zephyr\n",
    "        toc: true\n",
    "        toc-depth: 3\n",
    "        number-sections: true\n",
    "        code-fold: true\n",
    "        fig-align: center\n",
    "        fig-width: 8\n",
    "        fig-height: 5\n",
    "        title-block-banner: true\n",
    "        embed-resources: true\n",
    "abstract: |\n",
    "    W niniejszym sprawozdaniu przedstawiono analizę danych dotyczących ITS i Chlorofilu A. Celem analizy jest sprawdzenie możliwości predykcji wartości ITS i Chlorofilu A za pomocą regresji liniowej oraz jednej wybranej metody uczenia maszynowego (w naszym przypadku metoda SVM).\n",
    "lang: pl\n",
    "toc: true\n",
    "execute:\n",
    "    warning: false\n",
    "    error: false\n",
    "number-sections: true\n",
    "---"
   ]
  },
  {
   "cell_type": "markdown",
   "metadata": {},
   "source": [
    "::: {.callout-note}\n",
    "W tworzeniu analizy i pisaniu kodu pomagał nam [GitHub Copilot](https://github.com/features/copilot), który był zintegrowany ze środowiskiem, w którym był pisany kod. W opisach wyników wspomagaliśmy się [chatem GPT](https://chatgpt.com/), aby zwiększyć efektywność naszej pracy nad projektem.\n",
    ":::"
   ]
  },
  {
   "cell_type": "markdown",
   "metadata": {},
   "source": [
    "## Przygotowanie Danych"
   ]
  },
  {
   "cell_type": "markdown",
   "metadata": {},
   "source": [
    "Wczytanie podstawowych pakietów potrzebnych do przygotowania danych oraz analizy."
   ]
  },
  {
   "cell_type": "code",
   "execution_count": 1,
   "metadata": {
    "vscode": {
     "languageId": "r"
    }
   },
   "outputs": [
    {
     "name": "stderr",
     "output_type": "stream",
     "text": [
      "Warning message:\n",
      "\"pakiet 'ggplot2' został zbudowany w wersji R 4.3.3\"\n",
      "── \u001b[1mAttaching core tidyverse packages\u001b[22m ──────────────────────── tidyverse 2.0.0 ──\n",
      "\u001b[32m✔\u001b[39m \u001b[34mdplyr    \u001b[39m 1.1.3     \u001b[32m✔\u001b[39m \u001b[34mreadr    \u001b[39m 2.1.4\n",
      "\u001b[32m✔\u001b[39m \u001b[34mforcats  \u001b[39m 1.0.0     \u001b[32m✔\u001b[39m \u001b[34mstringr  \u001b[39m 1.5.0\n",
      "\u001b[32m✔\u001b[39m \u001b[34mggplot2  \u001b[39m 3.5.1     \u001b[32m✔\u001b[39m \u001b[34mtibble   \u001b[39m 3.2.1\n",
      "\u001b[32m✔\u001b[39m \u001b[34mlubridate\u001b[39m 1.9.3     \u001b[32m✔\u001b[39m \u001b[34mtidyr    \u001b[39m 1.3.0\n",
      "\u001b[32m✔\u001b[39m \u001b[34mpurrr    \u001b[39m 1.0.2     \n",
      "── \u001b[1mConflicts\u001b[22m ────────────────────────────────────────── tidyverse_conflicts() ──\n",
      "\u001b[31m✖\u001b[39m \u001b[34mdplyr\u001b[39m::\u001b[32mfilter()\u001b[39m masks \u001b[34mstats\u001b[39m::filter()\n",
      "\u001b[31m✖\u001b[39m \u001b[34mdplyr\u001b[39m::\u001b[32mlag()\u001b[39m    masks \u001b[34mstats\u001b[39m::lag()\n",
      "\u001b[36mℹ\u001b[39m Use the conflicted package (\u001b[3m\u001b[34m<http://conflicted.r-lib.org/>\u001b[39m\u001b[23m) to force all conflicts to become errors\n"
     ]
    }
   ],
   "source": [
    "#| code-fold: false\n",
    "# zestaw pakietów potrzebnych do zarządzania danymi\n",
    "library(tidyverse)"
   ]
  },
  {
   "cell_type": "markdown",
   "metadata": {},
   "source": [
    "Wczytanie danych z plików CSV.\n",
    "\n"
   ]
  },
  {
   "cell_type": "code",
   "execution_count": 2,
   "metadata": {
    "vscode": {
     "languageId": "r"
    }
   },
   "outputs": [
    {
     "name": "stderr",
     "output_type": "stream",
     "text": [
      "\u001b[1m\u001b[22mNew names:\n",
      "\u001b[36m•\u001b[39m `` -> `...1`\n",
      "\u001b[1mRows: \u001b[22m\u001b[34m51\u001b[39m \u001b[1mColumns: \u001b[22m\u001b[34m9\u001b[39m\n",
      "\u001b[36m──\u001b[39m \u001b[1mColumn specification\u001b[22m \u001b[36m────────────────────────────────────────────────────────\u001b[39m\n",
      "\u001b[1mDelimiter:\u001b[22m \",\"\n",
      "\u001b[32mdbl\u001b[39m (9): ...1, chla, temp, bar, nas, przew, ph, namon, ITS\n",
      "\n",
      "\u001b[36mℹ\u001b[39m Use `spec()` to retrieve the full column specification for this data.\n",
      "\u001b[36mℹ\u001b[39m Specify the column types or set `show_col_types = FALSE` to quiet this message.\n"
     ]
    }
   ],
   "source": [
    "#| code-fold: false\n",
    "dane <- read_csv(\"dd.csv\")\n",
    "dane <- dane %>% select(-`...1`)"
   ]
  },
  {
   "cell_type": "markdown",
   "metadata": {},
   "source": [
    "Podgląd pierwszych 6 wierszy danych."
   ]
  },
  {
   "cell_type": "code",
   "execution_count": 3,
   "metadata": {
    "vscode": {
     "languageId": "r"
    }
   },
   "outputs": [
    {
     "data": {
      "text/html": [
       "<table class=\"dataframe\">\n",
       "<caption>A tibble: 6 × 8</caption>\n",
       "<thead>\n",
       "\t<tr><th scope=col>chla</th><th scope=col>temp</th><th scope=col>bar</th><th scope=col>nas</th><th scope=col>przew</th><th scope=col>ph</th><th scope=col>namon</th><th scope=col>ITS</th></tr>\n",
       "\t<tr><th scope=col>&lt;dbl&gt;</th><th scope=col>&lt;dbl&gt;</th><th scope=col>&lt;dbl&gt;</th><th scope=col>&lt;dbl&gt;</th><th scope=col>&lt;dbl&gt;</th><th scope=col>&lt;dbl&gt;</th><th scope=col>&lt;dbl&gt;</th><th scope=col>&lt;dbl&gt;</th></tr>\n",
       "</thead>\n",
       "<tbody>\n",
       "\t<tr><td> 1.1</td><td>12.0</td><td>10</td><td> 80.78</td><td>176</td><td>7.40</td><td>0.100</td><td>7.64986</td></tr>\n",
       "\t<tr><td> 2.5</td><td>15.2</td><td>20</td><td> 89.68</td><td>157</td><td>7.60</td><td>0.100</td><td>7.73416</td></tr>\n",
       "\t<tr><td> 8.6</td><td>19.0</td><td> 5</td><td> 87.50</td><td>207</td><td>8.00</td><td>0.050</td><td>8.16250</td></tr>\n",
       "\t<tr><td> 2.3</td><td>19.5</td><td>10</td><td> 83.50</td><td>189</td><td>7.67</td><td>0.050</td><td>7.88450</td></tr>\n",
       "\t<tr><td> 7.5</td><td>12.0</td><td> 0</td><td>108.30</td><td>122</td><td>8.20</td><td>0.004</td><td>8.09210</td></tr>\n",
       "\t<tr><td>10.3</td><td>21.5</td><td> 5</td><td> 94.16</td><td>202</td><td>8.10</td><td>0.140</td><td>8.17592</td></tr>\n",
       "</tbody>\n",
       "</table>\n"
      ],
      "text/latex": [
       "A tibble: 6 × 8\n",
       "\\begin{tabular}{llllllll}\n",
       " chla & temp & bar & nas & przew & ph & namon & ITS\\\\\n",
       " <dbl> & <dbl> & <dbl> & <dbl> & <dbl> & <dbl> & <dbl> & <dbl>\\\\\n",
       "\\hline\n",
       "\t  1.1 & 12.0 & 10 &  80.78 & 176 & 7.40 & 0.100 & 7.64986\\\\\n",
       "\t  2.5 & 15.2 & 20 &  89.68 & 157 & 7.60 & 0.100 & 7.73416\\\\\n",
       "\t  8.6 & 19.0 &  5 &  87.50 & 207 & 8.00 & 0.050 & 8.16250\\\\\n",
       "\t  2.3 & 19.5 & 10 &  83.50 & 189 & 7.67 & 0.050 & 7.88450\\\\\n",
       "\t  7.5 & 12.0 &  0 & 108.30 & 122 & 8.20 & 0.004 & 8.09210\\\\\n",
       "\t 10.3 & 21.5 &  5 &  94.16 & 202 & 8.10 & 0.140 & 8.17592\\\\\n",
       "\\end{tabular}\n"
      ],
      "text/markdown": [
       "\n",
       "A tibble: 6 × 8\n",
       "\n",
       "| chla &lt;dbl&gt; | temp &lt;dbl&gt; | bar &lt;dbl&gt; | nas &lt;dbl&gt; | przew &lt;dbl&gt; | ph &lt;dbl&gt; | namon &lt;dbl&gt; | ITS &lt;dbl&gt; |\n",
       "|---|---|---|---|---|---|---|---|\n",
       "|  1.1 | 12.0 | 10 |  80.78 | 176 | 7.40 | 0.100 | 7.64986 |\n",
       "|  2.5 | 15.2 | 20 |  89.68 | 157 | 7.60 | 0.100 | 7.73416 |\n",
       "|  8.6 | 19.0 |  5 |  87.50 | 207 | 8.00 | 0.050 | 8.16250 |\n",
       "|  2.3 | 19.5 | 10 |  83.50 | 189 | 7.67 | 0.050 | 7.88450 |\n",
       "|  7.5 | 12.0 |  0 | 108.30 | 122 | 8.20 | 0.004 | 8.09210 |\n",
       "| 10.3 | 21.5 |  5 |  94.16 | 202 | 8.10 | 0.140 | 8.17592 |\n",
       "\n"
      ],
      "text/plain": [
       "  chla temp bar nas    przew ph   namon ITS    \n",
       "1  1.1 12.0 10   80.78 176   7.40 0.100 7.64986\n",
       "2  2.5 15.2 20   89.68 157   7.60 0.100 7.73416\n",
       "3  8.6 19.0  5   87.50 207   8.00 0.050 8.16250\n",
       "4  2.3 19.5 10   83.50 189   7.67 0.050 7.88450\n",
       "5  7.5 12.0  0  108.30 122   8.20 0.004 8.09210\n",
       "6 10.3 21.5  5   94.16 202   8.10 0.140 8.17592"
      ]
     },
     "metadata": {},
     "output_type": "display_data"
    }
   ],
   "source": [
    "#| code-fold: false\n",
    "head(dane)"
   ]
  },
  {
   "cell_type": "markdown",
   "metadata": {},
   "source": [
    "Zapisanie w zmiennej nazw kolumn do analizy w celu ułatwienia pracy z danymi."
   ]
  },
  {
   "cell_type": "code",
   "execution_count": 4,
   "metadata": {
    "vscode": {
     "languageId": "r"
    }
   },
   "outputs": [],
   "source": [
    "#| code-fold: false\n",
    "kolumny_do_analizy <- c(\"chla\", \"temp\", \"bar\", \"nas\", \"przew\", \"ph\", \"namon\", \"ITS\")"
   ]
  },
  {
   "cell_type": "markdown",
   "metadata": {},
   "source": [
    "Sprawdzenie liczby brakujących wartości w każdej kolumnie danych. "
   ]
  },
  {
   "cell_type": "code",
   "execution_count": 5,
   "metadata": {
    "vscode": {
     "languageId": "r"
    }
   },
   "outputs": [
    {
     "data": {
      "text/html": [
       "<table class=\"dataframe\">\n",
       "<caption>A tibble: 1 × 8</caption>\n",
       "<thead>\n",
       "\t<tr><th scope=col>chla</th><th scope=col>temp</th><th scope=col>bar</th><th scope=col>nas</th><th scope=col>przew</th><th scope=col>ph</th><th scope=col>namon</th><th scope=col>ITS</th></tr>\n",
       "\t<tr><th scope=col>&lt;int&gt;</th><th scope=col>&lt;int&gt;</th><th scope=col>&lt;int&gt;</th><th scope=col>&lt;int&gt;</th><th scope=col>&lt;int&gt;</th><th scope=col>&lt;int&gt;</th><th scope=col>&lt;int&gt;</th><th scope=col>&lt;int&gt;</th></tr>\n",
       "</thead>\n",
       "<tbody>\n",
       "\t<tr><td>0</td><td>0</td><td>0</td><td>0</td><td>0</td><td>0</td><td>0</td><td>0</td></tr>\n",
       "</tbody>\n",
       "</table>\n"
      ],
      "text/latex": [
       "A tibble: 1 × 8\n",
       "\\begin{tabular}{llllllll}\n",
       " chla & temp & bar & nas & przew & ph & namon & ITS\\\\\n",
       " <int> & <int> & <int> & <int> & <int> & <int> & <int> & <int>\\\\\n",
       "\\hline\n",
       "\t 0 & 0 & 0 & 0 & 0 & 0 & 0 & 0\\\\\n",
       "\\end{tabular}\n"
      ],
      "text/markdown": [
       "\n",
       "A tibble: 1 × 8\n",
       "\n",
       "| chla &lt;int&gt; | temp &lt;int&gt; | bar &lt;int&gt; | nas &lt;int&gt; | przew &lt;int&gt; | ph &lt;int&gt; | namon &lt;int&gt; | ITS &lt;int&gt; |\n",
       "|---|---|---|---|---|---|---|---|\n",
       "| 0 | 0 | 0 | 0 | 0 | 0 | 0 | 0 |\n",
       "\n"
      ],
      "text/plain": [
       "  chla temp bar nas przew ph namon ITS\n",
       "1 0    0    0   0   0     0  0     0  "
      ]
     },
     "metadata": {},
     "output_type": "display_data"
    }
   ],
   "source": [
    "#| code-fold: false\n",
    "# Ile wartości NA jest w każdej kolumnie\n",
    "dane %>% summarise_all(list(~sum(is.na(.))))"
   ]
  },
  {
   "cell_type": "markdown",
   "metadata": {},
   "source": [
    "Zmienna `ITS` zostanie utworzona z zmiennych już istniejących w zbiorze danych według wzoru:\n",
    "$$ ITS = ph + 0.013 \\cdot (100 - nas) $$"
   ]
  },
  {
   "cell_type": "code",
   "execution_count": 6,
   "metadata": {
    "vscode": {
     "languageId": "r"
    }
   },
   "outputs": [],
   "source": [
    "#| code-fold: false\n",
    "# Utworzenie nowej kolumny ITS\n",
    "dane$ITS <- dane$ph + 0.013 * (100 - dane$nas)"
   ]
  },
  {
   "cell_type": "markdown",
   "metadata": {},
   "source": [
    "Zmienna `ITS` została skonstruowana jako liniowa kombinacja zmiennych `ph` i `nas`. W związku z tym, w modelach regresji przewidujących `ITS`, oczekujemy wysokiej jakości dopasowania i statystycznie istotnych wyników."
   ]
  },
  {
   "cell_type": "markdown",
   "metadata": {},
   "source": [
    "## Podstawowe wykresy i wizualizacje"
   ]
  },
  {
   "cell_type": "markdown",
   "metadata": {},
   "source": [
    "### Podstawowe statystyki wszystkich dostępnych zmiennych"
   ]
  },
  {
   "cell_type": "code",
   "execution_count": 7,
   "metadata": {
    "vscode": {
     "languageId": "r"
    }
   },
   "outputs": [
    {
     "data": {
      "text/plain": [
       "      chla            temp            bar             nas        \n",
       " Min.   : 1.10   Min.   : 8.00   Min.   : 0.00   Min.   : 42.07  \n",
       " 1st Qu.: 7.90   1st Qu.:13.00   1st Qu.:10.00   1st Qu.: 89.37  \n",
       " Median :19.00   Median :16.60   Median :20.00   Median :100.43  \n",
       " Mean   :21.75   Mean   :15.96   Mean   :17.55   Mean   : 99.62  \n",
       " 3rd Qu.:26.90   3rd Qu.:18.90   3rd Qu.:20.00   3rd Qu.:108.08  \n",
       " Max.   :97.00   Max.   :22.50   Max.   :40.00   Max.   :131.06  \n",
       "     przew             ph            namon             ITS       \n",
       " Min.   :122.0   Min.   :7.200   Min.   :0.0000   Min.   :7.650  \n",
       " 1st Qu.:176.0   1st Qu.:7.950   1st Qu.:0.1000   1st Qu.:7.995  \n",
       " Median :191.0   Median :8.290   Median :0.1000   Median :8.353  \n",
       " Mean   :201.2   Mean   :8.289   Mean   :0.1164   Mean   :8.294  \n",
       " 3rd Qu.:209.5   3rd Qu.:8.700   3rd Qu.:0.1600   3rd Qu.:8.523  \n",
       " Max.   :403.0   Max.   :9.300   Max.   :0.2400   Max.   :8.945  "
      ]
     },
     "metadata": {},
     "output_type": "display_data"
    }
   ],
   "source": [
    "# Podstawowe statystyki\n",
    "dane %>% select(all_of(kolumny_do_analizy)) %>% summary()"
   ]
  },
  {
   "cell_type": "code",
   "execution_count": 8,
   "metadata": {
    "vscode": {
     "languageId": "r"
    }
   },
   "outputs": [],
   "source": [
    "#| echo: false\n",
    "library(ggplot2)"
   ]
  },
  {
   "cell_type": "markdown",
   "metadata": {},
   "source": [
    "### Histogramy wszystkich zmiennych"
   ]
  },
  {
   "cell_type": "code",
   "execution_count": 9,
   "metadata": {
    "vscode": {
     "languageId": "r"
    }
   },
   "outputs": [
    {
     "data": {
      "image/png": "[encoded data removed]",
      "text/plain": [
       "plot without title"
      ]
     },
     "metadata": {
      "image/png": {
       "height": 420,
       "width": 420
      }
     },
     "output_type": "display_data"
    }
   ],
   "source": [
    "# histogramy z facet wrap\n",
    "dane %>% gather(key = \"zmienna\", value = \"wartosc\", all_of(kolumny_do_analizy)) %>%\n",
    "  ggplot(aes(x = wartosc)) +\n",
    "  geom_histogram(bins = 7) +\n",
    "  facet_wrap(~zmienna, scales = \"free\") +\n",
    "  theme_minimal()"
   ]
  },
  {
   "cell_type": "markdown",
   "metadata": {},
   "source": [
    "Histogramy dla wszystkich ośmiu zmiennych (`chla`, `temp`, `bar`, `nas`, `przew`, `ph`, `namon`, `ITS`) wskazują na rozkłady dzwonowate, co sugeruje, że zmienne te mogą być zbliżone do rozkładów normalnych. Każda zmienna ma swoje charakterystyczne wartości centralne i rozpiętość, jednak ich kształt pozostaje podobny: większość obserwacji koncentruje się wokół środka, z malejącą częstością w kierunku wartości skrajnych."
   ]
  },
  {
   "cell_type": "markdown",
   "metadata": {},
   "source": [
    "### Zależności między zmiennymi"
   ]
  },
  {
   "cell_type": "code",
   "execution_count": 10,
   "metadata": {
    "vscode": {
     "languageId": "r"
    }
   },
   "outputs": [
    {
     "name": "stderr",
     "output_type": "stream",
     "text": [
      "Warning message:\n",
      "\"pakiet 'GGally' został zbudowany w wersji R 4.3.3\"\n",
      "Registered S3 method overwritten by 'GGally':\n",
      "  method from   \n",
      "  +.gg   ggplot2\n",
      "\n"
     ]
    },
    {
     "data": {
      "image/png": "[encoded data removed]",
      "text/plain": [
       "plot without title"
      ]
     },
     "metadata": {
      "image/png": {
       "height": 420,
       "width": 420
      }
     },
     "output_type": "display_data"
    }
   ],
   "source": [
    "# wykresy zależności między zmiennymi w danych\n",
    "library(GGally)\n",
    "ggpairs(dane, columns = kolumny_do_analizy)"
   ]
  },
  {
   "cell_type": "markdown",
   "metadata": {},
   "source": [
    "Wykresy zależności pokazują, że między `ph` a `ITS` oraz `ph` a `nas` występuje wyraźna zależność liniowa, co sugeruje silną korelację. Pozostałe zmienne wykazują słabsze lub brak istotnych zależności. Histogramy na przekątnych potwierdzają dzwonowate rozkłady analizowanych zmiennych."
   ]
  },
  {
   "cell_type": "markdown",
   "metadata": {},
   "source": [
    "## Testy zgodności z rozkładem normalnym"
   ]
  },
  {
   "cell_type": "markdown",
   "metadata": {},
   "source": [
    "### Test Shapiro-Wilka"
   ]
  },
  {
   "cell_type": "code",
   "execution_count": 11,
   "metadata": {
    "vscode": {
     "languageId": "r"
    }
   },
   "outputs": [
    {
     "data": {
      "text/html": [
       "<table class=\"dataframe\">\n",
       "<caption>A tibble: 8 × 3</caption>\n",
       "<thead>\n",
       "\t<tr><th scope=col>zmienna</th><th scope=col>statistic</th><th scope=col>p.value</th></tr>\n",
       "\t<tr><th scope=col>&lt;chr&gt;</th><th scope=col>&lt;dbl&gt;</th><th scope=col>&lt;dbl&gt;</th></tr>\n",
       "</thead>\n",
       "<tbody>\n",
       "\t<tr><td>chla </td><td>0.8235353</td><td>0.00</td></tr>\n",
       "\t<tr><td>temp </td><td>0.9707482</td><td>0.24</td></tr>\n",
       "\t<tr><td>bar  </td><td>0.9099379</td><td>0.00</td></tr>\n",
       "\t<tr><td>nas  </td><td>0.9469587</td><td>0.02</td></tr>\n",
       "\t<tr><td>przew</td><td>0.7917740</td><td>0.00</td></tr>\n",
       "\t<tr><td>ph   </td><td>0.9775584</td><td>0.44</td></tr>\n",
       "\t<tr><td>namon</td><td>0.9103975</td><td>0.00</td></tr>\n",
       "\t<tr><td>ITS  </td><td>0.9610648</td><td>0.09</td></tr>\n",
       "</tbody>\n",
       "</table>\n"
      ],
      "text/latex": [
       "A tibble: 8 × 3\n",
       "\\begin{tabular}{lll}\n",
       " zmienna & statistic & p.value\\\\\n",
       " <chr> & <dbl> & <dbl>\\\\\n",
       "\\hline\n",
       "\t chla  & 0.8235353 & 0.00\\\\\n",
       "\t temp  & 0.9707482 & 0.24\\\\\n",
       "\t bar   & 0.9099379 & 0.00\\\\\n",
       "\t nas   & 0.9469587 & 0.02\\\\\n",
       "\t przew & 0.7917740 & 0.00\\\\\n",
       "\t ph    & 0.9775584 & 0.44\\\\\n",
       "\t namon & 0.9103975 & 0.00\\\\\n",
       "\t ITS   & 0.9610648 & 0.09\\\\\n",
       "\\end{tabular}\n"
      ],
      "text/markdown": [
       "\n",
       "A tibble: 8 × 3\n",
       "\n",
       "| zmienna &lt;chr&gt; | statistic &lt;dbl&gt; | p.value &lt;dbl&gt; |\n",
       "|---|---|---|\n",
       "| chla  | 0.8235353 | 0.00 |\n",
       "| temp  | 0.9707482 | 0.24 |\n",
       "| bar   | 0.9099379 | 0.00 |\n",
       "| nas   | 0.9469587 | 0.02 |\n",
       "| przew | 0.7917740 | 0.00 |\n",
       "| ph    | 0.9775584 | 0.44 |\n",
       "| namon | 0.9103975 | 0.00 |\n",
       "| ITS   | 0.9610648 | 0.09 |\n",
       "\n"
      ],
      "text/plain": [
       "  zmienna statistic p.value\n",
       "1 chla    0.8235353 0.00   \n",
       "2 temp    0.9707482 0.24   \n",
       "3 bar     0.9099379 0.00   \n",
       "4 nas     0.9469587 0.02   \n",
       "5 przew   0.7917740 0.00   \n",
       "6 ph      0.9775584 0.44   \n",
       "7 namon   0.9103975 0.00   \n",
       "8 ITS     0.9610648 0.09   "
      ]
     },
     "metadata": {},
     "output_type": "display_data"
    }
   ],
   "source": [
    "# test Shapiro-Wilka\n",
    "shapiro_results <- dane %>% select(all_of(kolumny_do_analizy)) %>% map_df(~broom::tidy(shapiro.test(.)), .id = \"zmienna\")\n",
    "shapiro_results <- shapiro_results %>% mutate(p.value = round(p.value, 2))\n",
    "shapiro_results %>% select(zmienna, statistic, p.value)"
   ]
  },
  {
   "cell_type": "markdown",
   "metadata": {},
   "source": [
    "Test Shapiro-Wilka wykazał, że tylko `temp`, `ph`, i `ITS` mają rozkłady zbliżone do normalnego (p-value > 0.05). Pozostałe zmienne (`chla`, `bar`, `nas`, `przew`, `namon`) znacząco odbiegają od normalności (p-value ≤ 0.05)."
   ]
  },
  {
   "cell_type": "markdown",
   "metadata": {},
   "source": [
    "### Test Kołmogorowa-Smirnowa"
   ]
  },
  {
   "cell_type": "code",
   "execution_count": 12,
   "metadata": {
    "vscode": {
     "languageId": "r"
    }
   },
   "outputs": [
    {
     "name": "stderr",
     "output_type": "stream",
     "text": [
      "Warning message in ks.test.default(., \"pnorm\"):\n",
      "\"wartości powtórzone nie powinny być obecne w teście Kolmogorowa-Smirnowa\"\n",
      "Warning message in ks.test.default(., \"pnorm\"):\n",
      "\"wartości powtórzone nie powinny być obecne w teście Kolmogorowa-Smirnowa\"\n",
      "Warning message in ks.test.default(., \"pnorm\"):\n",
      "\"wartości powtórzone nie powinny być obecne w teście Kolmogorowa-Smirnowa\"\n",
      "Warning message in ks.test.default(., \"pnorm\"):\n",
      "\"wartości powtórzone nie powinny być obecne w teście Kolmogorowa-Smirnowa\"\n",
      "Warning message in ks.test.default(., \"pnorm\"):\n",
      "\"wartości powtórzone nie powinny być obecne w teście Kolmogorowa-Smirnowa\"\n",
      "Warning message in ks.test.default(., \"pnorm\"):\n",
      "\"wartości powtórzone nie powinny być obecne w teście Kolmogorowa-Smirnowa\"\n"
     ]
    },
    {
     "data": {
      "text/html": [
       "<table class=\"dataframe\">\n",
       "<caption>A tibble: 8 × 3</caption>\n",
       "<thead>\n",
       "\t<tr><th scope=col>zmienna</th><th scope=col>statistic</th><th scope=col>p.value</th></tr>\n",
       "\t<tr><th scope=col>&lt;chr&gt;</th><th scope=col>&lt;dbl&gt;</th><th scope=col>&lt;dbl&gt;</th></tr>\n",
       "</thead>\n",
       "<tbody>\n",
       "\t<tr><td>chla </td><td>0.9304524</td><td>0</td></tr>\n",
       "\t<tr><td>temp </td><td>1.0000000</td><td>0</td></tr>\n",
       "\t<tr><td>bar  </td><td>0.9803919</td><td>0</td></tr>\n",
       "\t<tr><td>nas  </td><td>1.0000000</td><td>0</td></tr>\n",
       "\t<tr><td>przew</td><td>1.0000000</td><td>0</td></tr>\n",
       "\t<tr><td>ph   </td><td>1.0000000</td><td>0</td></tr>\n",
       "\t<tr><td>namon</td><td>0.5000000</td><td>0</td></tr>\n",
       "\t<tr><td>ITS  </td><td>1.0000000</td><td>0</td></tr>\n",
       "</tbody>\n",
       "</table>\n"
      ],
      "text/latex": [
       "A tibble: 8 × 3\n",
       "\\begin{tabular}{lll}\n",
       " zmienna & statistic & p.value\\\\\n",
       " <chr> & <dbl> & <dbl>\\\\\n",
       "\\hline\n",
       "\t chla  & 0.9304524 & 0\\\\\n",
       "\t temp  & 1.0000000 & 0\\\\\n",
       "\t bar   & 0.9803919 & 0\\\\\n",
       "\t nas   & 1.0000000 & 0\\\\\n",
       "\t przew & 1.0000000 & 0\\\\\n",
       "\t ph    & 1.0000000 & 0\\\\\n",
       "\t namon & 0.5000000 & 0\\\\\n",
       "\t ITS   & 1.0000000 & 0\\\\\n",
       "\\end{tabular}\n"
      ],
      "text/markdown": [
       "\n",
       "A tibble: 8 × 3\n",
       "\n",
       "| zmienna &lt;chr&gt; | statistic &lt;dbl&gt; | p.value &lt;dbl&gt; |\n",
       "|---|---|---|\n",
       "| chla  | 0.9304524 | 0 |\n",
       "| temp  | 1.0000000 | 0 |\n",
       "| bar   | 0.9803919 | 0 |\n",
       "| nas   | 1.0000000 | 0 |\n",
       "| przew | 1.0000000 | 0 |\n",
       "| ph    | 1.0000000 | 0 |\n",
       "| namon | 0.5000000 | 0 |\n",
       "| ITS   | 1.0000000 | 0 |\n",
       "\n"
      ],
      "text/plain": [
       "  zmienna statistic p.value\n",
       "1 chla    0.9304524 0      \n",
       "2 temp    1.0000000 0      \n",
       "3 bar     0.9803919 0      \n",
       "4 nas     1.0000000 0      \n",
       "5 przew   1.0000000 0      \n",
       "6 ph      1.0000000 0      \n",
       "7 namon   0.5000000 0      \n",
       "8 ITS     1.0000000 0      "
      ]
     },
     "metadata": {},
     "output_type": "display_data"
    }
   ],
   "source": [
    "# Test Kołmogorowa-Smirnowa\n",
    "ks_results <- dane %>% select(all_of(kolumny_do_analizy)) %>% map_df(~broom::tidy(ks.test(., \"pnorm\")), .id = \"zmienna\")\n",
    "ks_results <- ks_results %>% mutate(p.value = round(p.value, 2))\n",
    "ks_results %>% select(zmienna, statistic, p.value)"
   ]
  },
  {
   "cell_type": "markdown",
   "metadata": {},
   "source": [
    "Wyniki testu Kołmogorowa-Smirnowa pokazują, że dla wszystkich zmiennych (p-value = 0) hipoteza zerowa o normalnym rozkładzie została odrzucona. Oznacza to, że żadna z analizowanych zmiennych nie wykazuje rozkładu normalnego. "
   ]
  },
  {
   "cell_type": "markdown",
   "metadata": {},
   "source": [
    "### Badanie normalności przez skośność"
   ]
  },
  {
   "cell_type": "code",
   "execution_count": 13,
   "metadata": {
    "vscode": {
     "languageId": "r"
    }
   },
   "outputs": [
    {
     "name": "stderr",
     "output_type": "stream",
     "text": [
      "Warning message:\n",
      "\"pakiet 'e1071' został zbudowany w wersji R 4.3.3\"\n"
     ]
    },
    {
     "data": {
      "text/html": [
       "<table class=\"dataframe\">\n",
       "<caption>A tibble: 1 × 8</caption>\n",
       "<thead>\n",
       "\t<tr><th scope=col>chla</th><th scope=col>temp</th><th scope=col>bar</th><th scope=col>nas</th><th scope=col>przew</th><th scope=col>ph</th><th scope=col>namon</th><th scope=col>ITS</th></tr>\n",
       "\t<tr><th scope=col>&lt;dbl&gt;</th><th scope=col>&lt;dbl&gt;</th><th scope=col>&lt;dbl&gt;</th><th scope=col>&lt;dbl&gt;</th><th scope=col>&lt;dbl&gt;</th><th scope=col>&lt;dbl&gt;</th><th scope=col>&lt;dbl&gt;</th><th scope=col>&lt;dbl&gt;</th></tr>\n",
       "</thead>\n",
       "<tbody>\n",
       "\t<tr><td>1.633215</td><td>-0.2748987</td><td>0.4364116</td><td>-0.7337826</td><td>2.205302</td><td>0.1093801</td><td>0.05635184</td><td>0.1184425</td></tr>\n",
       "</tbody>\n",
       "</table>\n"
      ],
      "text/latex": [
       "A tibble: 1 × 8\n",
       "\\begin{tabular}{llllllll}\n",
       " chla & temp & bar & nas & przew & ph & namon & ITS\\\\\n",
       " <dbl> & <dbl> & <dbl> & <dbl> & <dbl> & <dbl> & <dbl> & <dbl>\\\\\n",
       "\\hline\n",
       "\t 1.633215 & -0.2748987 & 0.4364116 & -0.7337826 & 2.205302 & 0.1093801 & 0.05635184 & 0.1184425\\\\\n",
       "\\end{tabular}\n"
      ],
      "text/markdown": [
       "\n",
       "A tibble: 1 × 8\n",
       "\n",
       "| chla &lt;dbl&gt; | temp &lt;dbl&gt; | bar &lt;dbl&gt; | nas &lt;dbl&gt; | przew &lt;dbl&gt; | ph &lt;dbl&gt; | namon &lt;dbl&gt; | ITS &lt;dbl&gt; |\n",
       "|---|---|---|---|---|---|---|---|\n",
       "| 1.633215 | -0.2748987 | 0.4364116 | -0.7337826 | 2.205302 | 0.1093801 | 0.05635184 | 0.1184425 |\n",
       "\n"
      ],
      "text/plain": [
       "  chla     temp       bar       nas        przew    ph        namon     \n",
       "1 1.633215 -0.2748987 0.4364116 -0.7337826 2.205302 0.1093801 0.05635184\n",
       "  ITS      \n",
       "1 0.1184425"
      ]
     },
     "metadata": {},
     "output_type": "display_data"
    }
   ],
   "source": [
    "# Badanie normalności rozkładu przez skośność\n",
    "library(e1071)\n",
    "skewness_results <- dane %>% select(all_of(kolumny_do_analizy)) %>% map_df(~skewness(.), .id = \"zmienna\")\n",
    "skewness_results"
   ]
  },
  {
   "cell_type": "markdown",
   "metadata": {},
   "source": [
    "Analiza skośności wskazuje, że zmienne `chla` i `przew` wykazują silną dodatnią asymetrię, co oznacza, że ich rozkłady mają dłuższe ogony po prawej stronie. Z kolei `nas` charakteryzuje się umiarkowaną ujemną skośnością, z dłuższym ogonem po lewej stronie. Pozostałe zmienne (`temp`, `ph`, `namon`, `ITS`, `bar`) mają rozkłady bliskie symetrycznym, co sugeruje brak znaczącej asymetrii. Te różnice w skośności mogą wpłynąć na wyniki analiz, zwłaszcza jeśli wymagane są dane o symetrycznym rozkładzie."
   ]
  },
  {
   "cell_type": "markdown",
   "metadata": {},
   "source": [
    "### Test Jarque-Bera"
   ]
  },
  {
   "cell_type": "code",
   "execution_count": 14,
   "metadata": {
    "vscode": {
     "languageId": "r"
    }
   },
   "outputs": [
    {
     "name": "stderr",
     "output_type": "stream",
     "text": [
      "Warning message:\n",
      "\"pakiet 'tseries' został zbudowany w wersji R 4.3.3\"\n",
      "Registered S3 method overwritten by 'quantmod':\n",
      "  method            from\n",
      "  as.zoo.data.frame zoo \n",
      "\n"
     ]
    },
    {
     "data": {
      "text/html": [
       "<table class=\"dataframe\">\n",
       "<caption>A tibble: 8 × 3</caption>\n",
       "<thead>\n",
       "\t<tr><th scope=col>zmienna</th><th scope=col>statistic</th><th scope=col>p.value</th></tr>\n",
       "\t<tr><th scope=col>&lt;chr&gt;</th><th scope=col>&lt;dbl&gt;</th><th scope=col>&lt;dbl&gt;</th></tr>\n",
       "</thead>\n",
       "<tbody>\n",
       "\t<tr><td>chla </td><td> 41.4350405</td><td>0.00</td></tr>\n",
       "\t<tr><td>temp </td><td>  1.9045437</td><td>0.39</td></tr>\n",
       "\t<tr><td>bar  </td><td>  1.8139982</td><td>0.40</td></tr>\n",
       "\t<tr><td>nas  </td><td> 18.9984301</td><td>0.00</td></tr>\n",
       "\t<tr><td>przew</td><td>158.3446852</td><td>0.00</td></tr>\n",
       "\t<tr><td>ph   </td><td>  0.9794874</td><td>0.61</td></tr>\n",
       "\t<tr><td>namon</td><td>  0.4073673</td><td>0.82</td></tr>\n",
       "\t<tr><td>ITS  </td><td>  2.5066229</td><td>0.29</td></tr>\n",
       "</tbody>\n",
       "</table>\n"
      ],
      "text/latex": [
       "A tibble: 8 × 3\n",
       "\\begin{tabular}{lll}\n",
       " zmienna & statistic & p.value\\\\\n",
       " <chr> & <dbl> & <dbl>\\\\\n",
       "\\hline\n",
       "\t chla  &  41.4350405 & 0.00\\\\\n",
       "\t temp  &   1.9045437 & 0.39\\\\\n",
       "\t bar   &   1.8139982 & 0.40\\\\\n",
       "\t nas   &  18.9984301 & 0.00\\\\\n",
       "\t przew & 158.3446852 & 0.00\\\\\n",
       "\t ph    &   0.9794874 & 0.61\\\\\n",
       "\t namon &   0.4073673 & 0.82\\\\\n",
       "\t ITS   &   2.5066229 & 0.29\\\\\n",
       "\\end{tabular}\n"
      ],
      "text/markdown": [
       "\n",
       "A tibble: 8 × 3\n",
       "\n",
       "| zmienna &lt;chr&gt; | statistic &lt;dbl&gt; | p.value &lt;dbl&gt; |\n",
       "|---|---|---|\n",
       "| chla  |  41.4350405 | 0.00 |\n",
       "| temp  |   1.9045437 | 0.39 |\n",
       "| bar   |   1.8139982 | 0.40 |\n",
       "| nas   |  18.9984301 | 0.00 |\n",
       "| przew | 158.3446852 | 0.00 |\n",
       "| ph    |   0.9794874 | 0.61 |\n",
       "| namon |   0.4073673 | 0.82 |\n",
       "| ITS   |   2.5066229 | 0.29 |\n",
       "\n"
      ],
      "text/plain": [
       "  zmienna statistic   p.value\n",
       "1 chla     41.4350405 0.00   \n",
       "2 temp      1.9045437 0.39   \n",
       "3 bar       1.8139982 0.40   \n",
       "4 nas      18.9984301 0.00   \n",
       "5 przew   158.3446852 0.00   \n",
       "6 ph        0.9794874 0.61   \n",
       "7 namon     0.4073673 0.82   \n",
       "8 ITS       2.5066229 0.29   "
      ]
     },
     "metadata": {},
     "output_type": "display_data"
    }
   ],
   "source": [
    "# Test Jarque-Bera\n",
    "library(tseries)\n",
    "library(broom)\n",
    "\n",
    "jarque_bera_results <- dane %>% \n",
    "  select(all_of(kolumny_do_analizy)) %>% \n",
    "  map_df(~broom::tidy(jarque.bera.test(.)), .id = \"zmienna\")\n",
    "\n",
    "jarque_bera_results <- jarque_bera_results %>% mutate(p.value = round(p.value, 2))\n",
    "jarque_bera_results %>% select(zmienna, statistic, p.value)"
   ]
  },
  {
   "cell_type": "markdown",
   "metadata": {},
   "source": [
    "Z testu Jarque-Bera wynika, że rozkładu normalnego nie mają jedynie: `chla`, `nas` i `przew`, ponieważ wartość p-value jest mniejsza niż 0.05. \n",
    "Wyniki testu Jarque-Bera opierają się na dwóch miarach: kurtozie i skośności."
   ]
  },
  {
   "cell_type": "markdown",
   "metadata": {},
   "source": [
    "### QQ-plot"
   ]
  },
  {
   "cell_type": "code",
   "execution_count": 15,
   "metadata": {
    "vscode": {
     "languageId": "r"
    }
   },
   "outputs": [
    {
     "data": {
      "image/png": "[encoded data removed]",
      "text/plain": [
       "plot without title"
      ]
     },
     "metadata": {
      "image/png": {
       "height": 420,
       "width": 420
      }
     },
     "output_type": "display_data"
    }
   ],
   "source": [
    "# QQ ploty dla analizowanych zmiennych\n",
    "# Przekształcenie danych do formatu długiego\n",
    "dane_long <- dane %>% \n",
    "  select(all_of(kolumny_do_analizy)) %>% \n",
    "  pivot_longer(cols = everything(), names_to = \"zmienna\", values_to = \"wartosc\")\n",
    "\n",
    "# Tworzenie QQ plotów z facet_wrap\n",
    "ggplot(dane_long, aes(sample = wartosc)) +\n",
    "  stat_qq() +\n",
    "  stat_qq_line() +\n",
    "  facet_wrap(~ zmienna, scales = \"free\") +\n",
    "  labs(title = \"QQ Ploty dla analizowanych zmiennych\",\n",
    "       x = \"Teoretyczne kwantyle\",\n",
    "       y = \"Empiryczne kwantyle\") +\n",
    "  theme_minimal()"
   ]
  },
  {
   "cell_type": "markdown",
   "metadata": {},
   "source": [
    "Na podstawie powyższych wykresów QQ-plot można stwierdzić, że zmienne **ITS**, **ph**, **temp** mają rozkład zbliżony do normalnego, ponieważ punkty znajdują się blisko linii prostej. Zmienne **bar**, **chla**, **namon**, **nas**, **przew** w tym przypadku odbiegają od linii prostej, co sugeruje, że dane mogą nie spełniać założeń o normalności rozkładu. W szczególności wartości w ogonach rozkładu znacząco odchodzą od linii, co może sugerować obecność skrajnych obserwacji.\n",
    "\n",
    "W przypadku zmiennej **nas** większość punktów układa się blisko linii prostej, co wskazuje na zgodność z rozkładem normalnym. Jednak jeden punkt znacząco odbiega od wzorca, co sugeruje obecność potencjalnego outliera (wartości odstającej). Może to wynikać z błędu pomiarowego lub specyficznego przypadku w danych. Należy zweryfikować tę obserwację i rozważyć jej wpływ na dalsze analizy, np. poprzez porównanie wyników z i bez tego punktu."
   ]
  },
  {
   "cell_type": "markdown",
   "metadata": {},
   "source": [
    "## Testy wartości odstających"
   ]
  },
  {
   "cell_type": "markdown",
   "metadata": {},
   "source": [
    "### Test Grubbsa"
   ]
  },
  {
   "cell_type": "markdown",
   "metadata": {},
   "source": [
    "#### Przed odrzuconymi wartościami odstającymi"
   ]
  },
  {
   "cell_type": "code",
   "execution_count": 16,
   "metadata": {
    "vscode": {
     "languageId": "r"
    }
   },
   "outputs": [
    {
     "data": {
      "text/html": [
       "<table class=\"dataframe\">\n",
       "<caption>A grouped_df: 8 × 3</caption>\n",
       "<thead>\n",
       "\t<tr><th scope=col>zmienna</th><th scope=col>p.value</th><th scope=col>alternative</th></tr>\n",
       "\t<tr><th scope=col>&lt;chr&gt;</th><th scope=col>&lt;dbl&gt;</th><th scope=col>&lt;chr&gt;</th></tr>\n",
       "</thead>\n",
       "<tbody>\n",
       "\t<tr><td>ITS  </td><td>1.00</td><td>highest value 8.94523 is an outlier</td></tr>\n",
       "\t<tr><td>bar  </td><td>0.49</td><td>highest value 40 is an outlier     </td></tr>\n",
       "\t<tr><td>chla </td><td>0.00</td><td>highest value 97 is an outlier     </td></tr>\n",
       "\t<tr><td>namon</td><td>1.00</td><td>highest value 0.24 is an outlier   </td></tr>\n",
       "\t<tr><td>nas  </td><td>0.00</td><td>lowest value 42.07 is an outlier   </td></tr>\n",
       "\t<tr><td>ph   </td><td>0.70</td><td>lowest value 7.2 is an outlier     </td></tr>\n",
       "\t<tr><td>przew</td><td>0.00</td><td>highest value 403 is an outlier    </td></tr>\n",
       "\t<tr><td>temp </td><td>0.41</td><td>lowest value 8 is an outlier       </td></tr>\n",
       "</tbody>\n",
       "</table>\n"
      ],
      "text/latex": [
       "A grouped\\_df: 8 × 3\n",
       "\\begin{tabular}{lll}\n",
       " zmienna & p.value & alternative\\\\\n",
       " <chr> & <dbl> & <chr>\\\\\n",
       "\\hline\n",
       "\t ITS   & 1.00 & highest value 8.94523 is an outlier\\\\\n",
       "\t bar   & 0.49 & highest value 40 is an outlier     \\\\\n",
       "\t chla  & 0.00 & highest value 97 is an outlier     \\\\\n",
       "\t namon & 1.00 & highest value 0.24 is an outlier   \\\\\n",
       "\t nas   & 0.00 & lowest value 42.07 is an outlier   \\\\\n",
       "\t ph    & 0.70 & lowest value 7.2 is an outlier     \\\\\n",
       "\t przew & 0.00 & highest value 403 is an outlier    \\\\\n",
       "\t temp  & 0.41 & lowest value 8 is an outlier       \\\\\n",
       "\\end{tabular}\n"
      ],
      "text/markdown": [
       "\n",
       "A grouped_df: 8 × 3\n",
       "\n",
       "| zmienna &lt;chr&gt; | p.value &lt;dbl&gt; | alternative &lt;chr&gt; |\n",
       "|---|---|---|\n",
       "| ITS   | 1.00 | highest value 8.94523 is an outlier |\n",
       "| bar   | 0.49 | highest value 40 is an outlier      |\n",
       "| chla  | 0.00 | highest value 97 is an outlier      |\n",
       "| namon | 1.00 | highest value 0.24 is an outlier    |\n",
       "| nas   | 0.00 | lowest value 42.07 is an outlier    |\n",
       "| ph    | 0.70 | lowest value 7.2 is an outlier      |\n",
       "| przew | 0.00 | highest value 403 is an outlier     |\n",
       "| temp  | 0.41 | lowest value 8 is an outlier        |\n",
       "\n"
      ],
      "text/plain": [
       "  zmienna p.value alternative                        \n",
       "1 ITS     1.00    highest value 8.94523 is an outlier\n",
       "2 bar     0.49    highest value 40 is an outlier     \n",
       "3 chla    0.00    highest value 97 is an outlier     \n",
       "4 namon   1.00    highest value 0.24 is an outlier   \n",
       "5 nas     0.00    lowest value 42.07 is an outlier   \n",
       "6 ph      0.70    lowest value 7.2 is an outlier     \n",
       "7 przew   0.00    highest value 403 is an outlier    \n",
       "8 temp    0.41    lowest value 8 is an outlier       "
      ]
     },
     "metadata": {},
     "output_type": "display_data"
    }
   ],
   "source": [
    "# test Grubbsa\n",
    "library(outliers)\n",
    "\n",
    "# Funkcja do przeprowadzenia testu Grubbsa\n",
    "perform_grubbs_test <- function(data, type = 10, opposite = FALSE) {\n",
    "    results <- data %>% \n",
    "        select(all_of(kolumny_do_analizy)) %>% \n",
    "        map_df(~broom::tidy(grubbs.test(.,type = type, opposite = opposite)), .id = \"zmienna\")\n",
    "    \n",
    "    results <- results %>% \n",
    "        group_by(zmienna) %>% \n",
    "        slice(1) %>% \n",
    "        mutate(p.value = round(p.value, 2))\n",
    "    \n",
    "    return(results %>% select(zmienna, p.value, alternative))\n",
    "}\n",
    "\n",
    "# Wyniki testu Grubbsa przed usunięciem wartości odstających\n",
    "grubbs_results_before <- perform_grubbs_test(dane)\n",
    "grubbs_results_before"
   ]
  },
  {
   "cell_type": "markdown",
   "metadata": {},
   "source": [
    "Wyniki testu Grubbsa wskazują na obecność wartości odstających dla kilku zmiennych. Istotne wartości odstające (p-value ≤ 0.05) zidentyfikowano w zmiennych `chla` (97), `nas` (42.07), oraz `przew` (403). Oznacza to, że te obserwacje znacząco różnią się od pozostałych i mogą wymagać dalszej analizy lub uwzględnienia w preprocessing danych. Dla pozostałych zmiennych, mimo wskazania potencjalnych wartości odstających, test nie potwierdził ich istotności statystycznej (p-value > 0.05)."
   ]
  },
  {
   "cell_type": "code",
   "execution_count": 17,
   "metadata": {
    "vscode": {
     "languageId": "r"
    }
   },
   "outputs": [
    {
     "data": {
      "text/html": [
       "<table class=\"dataframe\">\n",
       "<caption>A grouped_df: 8 × 3</caption>\n",
       "<thead>\n",
       "\t<tr><th scope=col>zmienna</th><th scope=col>p.value</th><th scope=col>alternative</th></tr>\n",
       "\t<tr><th scope=col>&lt;chr&gt;</th><th scope=col>&lt;dbl&gt;</th><th scope=col>&lt;chr&gt;</th></tr>\n",
       "</thead>\n",
       "<tbody>\n",
       "\t<tr><td>ITS  </td><td>1.00</td><td>lowest value 7.64986 is an outlier</td></tr>\n",
       "\t<tr><td>bar  </td><td>1.00</td><td>lowest value 0 is an outlier      </td></tr>\n",
       "\t<tr><td>chla </td><td>1.00</td><td>lowest value 1.1 is an outlier    </td></tr>\n",
       "\t<tr><td>namon</td><td>1.00</td><td>lowest value 0 is an outlier      </td></tr>\n",
       "\t<tr><td>nas  </td><td>0.89</td><td>highest value 131.06 is an outlier</td></tr>\n",
       "\t<tr><td>ph   </td><td>1.00</td><td>highest value 9.3 is an outlier   </td></tr>\n",
       "\t<tr><td>przew</td><td>1.00</td><td>lowest value 122 is an outlier    </td></tr>\n",
       "\t<tr><td>temp </td><td>1.00</td><td>highest value 22.5 is an outlier  </td></tr>\n",
       "</tbody>\n",
       "</table>\n"
      ],
      "text/latex": [
       "A grouped\\_df: 8 × 3\n",
       "\\begin{tabular}{lll}\n",
       " zmienna & p.value & alternative\\\\\n",
       " <chr> & <dbl> & <chr>\\\\\n",
       "\\hline\n",
       "\t ITS   & 1.00 & lowest value 7.64986 is an outlier\\\\\n",
       "\t bar   & 1.00 & lowest value 0 is an outlier      \\\\\n",
       "\t chla  & 1.00 & lowest value 1.1 is an outlier    \\\\\n",
       "\t namon & 1.00 & lowest value 0 is an outlier      \\\\\n",
       "\t nas   & 0.89 & highest value 131.06 is an outlier\\\\\n",
       "\t ph    & 1.00 & highest value 9.3 is an outlier   \\\\\n",
       "\t przew & 1.00 & lowest value 122 is an outlier    \\\\\n",
       "\t temp  & 1.00 & highest value 22.5 is an outlier  \\\\\n",
       "\\end{tabular}\n"
      ],
      "text/markdown": [
       "\n",
       "A grouped_df: 8 × 3\n",
       "\n",
       "| zmienna &lt;chr&gt; | p.value &lt;dbl&gt; | alternative &lt;chr&gt; |\n",
       "|---|---|---|\n",
       "| ITS   | 1.00 | lowest value 7.64986 is an outlier |\n",
       "| bar   | 1.00 | lowest value 0 is an outlier       |\n",
       "| chla  | 1.00 | lowest value 1.1 is an outlier     |\n",
       "| namon | 1.00 | lowest value 0 is an outlier       |\n",
       "| nas   | 0.89 | highest value 131.06 is an outlier |\n",
       "| ph    | 1.00 | highest value 9.3 is an outlier    |\n",
       "| przew | 1.00 | lowest value 122 is an outlier     |\n",
       "| temp  | 1.00 | highest value 22.5 is an outlier   |\n",
       "\n"
      ],
      "text/plain": [
       "  zmienna p.value alternative                       \n",
       "1 ITS     1.00    lowest value 7.64986 is an outlier\n",
       "2 bar     1.00    lowest value 0 is an outlier      \n",
       "3 chla    1.00    lowest value 1.1 is an outlier    \n",
       "4 namon   1.00    lowest value 0 is an outlier      \n",
       "5 nas     0.89    highest value 131.06 is an outlier\n",
       "6 ph      1.00    highest value 9.3 is an outlier   \n",
       "7 przew   1.00    lowest value 122 is an outlier    \n",
       "8 temp    1.00    highest value 22.5 is an outlier  "
      ]
     },
     "metadata": {},
     "output_type": "display_data"
    }
   ],
   "source": [
    "# Wyniki testu Grubbsa po drugiej stronie rozkładu\n",
    "grubbs_results_before_opposite <- perform_grubbs_test(dane, opposite = TRUE)\n",
    "grubbs_results_before_opposite"
   ]
  },
  {
   "cell_type": "markdown",
   "metadata": {},
   "source": [
    "Wyniki testu Grubbsa dla przeciwnej strony rozkładu wskazują, że żadne z niskich wartości w analizowanych zmiennych nie zostały uznane za istotne wartości odstające (p-value > 0.05). W porównaniu do poprzedniego testu, jedyną zauważalną zmianą jest brak istotnych odstających wartości w `nas`, co sugeruje, że ekstremalnie wysokie wartości w tej zmiennej nie różnią się istotnie od reszty danych."
   ]
  },
  {
   "cell_type": "markdown",
   "metadata": {},
   "source": [
    "#### Po odrzuconych wartościach odstających"
   ]
  },
  {
   "cell_type": "code",
   "execution_count": 18,
   "metadata": {
    "vscode": {
     "languageId": "r"
    }
   },
   "outputs": [
    {
     "data": {
      "text/html": [
       "<table class=\"dataframe\">\n",
       "<caption>A grouped_df: 8 × 3</caption>\n",
       "<thead>\n",
       "\t<tr><th scope=col>zmienna</th><th scope=col>p.value</th><th scope=col>alternative</th></tr>\n",
       "\t<tr><th scope=col>&lt;chr&gt;</th><th scope=col>&lt;dbl&gt;</th><th scope=col>&lt;chr&gt;</th></tr>\n",
       "</thead>\n",
       "<tbody>\n",
       "\t<tr><td>ITS  </td><td>1.00</td><td>highest value 8.94338 is an outlier</td></tr>\n",
       "\t<tr><td>bar  </td><td>0.27</td><td>highest value 40 is an outlier     </td></tr>\n",
       "\t<tr><td>chla </td><td>0.04</td><td>highest value 72.5 is an outlier   </td></tr>\n",
       "\t<tr><td>namon</td><td>0.87</td><td>highest value 0.24 is an outlier   </td></tr>\n",
       "\t<tr><td>nas  </td><td>0.57</td><td>highest value 127.29 is an outlier </td></tr>\n",
       "\t<tr><td>ph   </td><td>0.67</td><td>highest value 9.3 is an outlier    </td></tr>\n",
       "\t<tr><td>przew</td><td>0.00</td><td>highest value 317 is an outlier    </td></tr>\n",
       "\t<tr><td>temp </td><td>1.00</td><td>lowest value 10 is an outlier      </td></tr>\n",
       "</tbody>\n",
       "</table>\n"
      ],
      "text/latex": [
       "A grouped\\_df: 8 × 3\n",
       "\\begin{tabular}{lll}\n",
       " zmienna & p.value & alternative\\\\\n",
       " <chr> & <dbl> & <chr>\\\\\n",
       "\\hline\n",
       "\t ITS   & 1.00 & highest value 8.94338 is an outlier\\\\\n",
       "\t bar   & 0.27 & highest value 40 is an outlier     \\\\\n",
       "\t chla  & 0.04 & highest value 72.5 is an outlier   \\\\\n",
       "\t namon & 0.87 & highest value 0.24 is an outlier   \\\\\n",
       "\t nas   & 0.57 & highest value 127.29 is an outlier \\\\\n",
       "\t ph    & 0.67 & highest value 9.3 is an outlier    \\\\\n",
       "\t przew & 0.00 & highest value 317 is an outlier    \\\\\n",
       "\t temp  & 1.00 & lowest value 10 is an outlier      \\\\\n",
       "\\end{tabular}\n"
      ],
      "text/markdown": [
       "\n",
       "A grouped_df: 8 × 3\n",
       "\n",
       "| zmienna &lt;chr&gt; | p.value &lt;dbl&gt; | alternative &lt;chr&gt; |\n",
       "|---|---|---|\n",
       "| ITS   | 1.00 | highest value 8.94338 is an outlier |\n",
       "| bar   | 0.27 | highest value 40 is an outlier      |\n",
       "| chla  | 0.04 | highest value 72.5 is an outlier    |\n",
       "| namon | 0.87 | highest value 0.24 is an outlier    |\n",
       "| nas   | 0.57 | highest value 127.29 is an outlier  |\n",
       "| ph    | 0.67 | highest value 9.3 is an outlier     |\n",
       "| przew | 0.00 | highest value 317 is an outlier     |\n",
       "| temp  | 1.00 | lowest value 10 is an outlier       |\n",
       "\n"
      ],
      "text/plain": [
       "  zmienna p.value alternative                        \n",
       "1 ITS     1.00    highest value 8.94338 is an outlier\n",
       "2 bar     0.27    highest value 40 is an outlier     \n",
       "3 chla    0.04    highest value 72.5 is an outlier   \n",
       "4 namon   0.87    highest value 0.24 is an outlier   \n",
       "5 nas     0.57    highest value 127.29 is an outlier \n",
       "6 ph      0.67    highest value 9.3 is an outlier    \n",
       "7 przew   0.00    highest value 317 is an outlier    \n",
       "8 temp    1.00    lowest value 10 is an outlier      "
      ]
     },
     "metadata": {},
     "output_type": "display_data"
    }
   ],
   "source": [
    "# Usunięcie wartości odstających\n",
    "\n",
    "# Funkcja do usunięcia wartości największych i najmniejszych, zastępując je NA  \n",
    "delate_max_and_min_values <- function(data) {\n",
    "    results <- data %>% \n",
    "        mutate(across(all_of(kolumny_do_analizy), ~replace(., which.max(.), NA))) %>%\n",
    "        mutate(across(all_of(kolumny_do_analizy), ~replace(., which.min(.), NA)))\n",
    "\n",
    "    return(results)\n",
    "}\n",
    "\n",
    "# Usunięcie wartości odstających\n",
    "dane_cleaned_max_min <- delate_max_and_min_values(dane)\n",
    "\n",
    "# Wyniki testu Grubbsa po usunięciu wartości odstających\n",
    "grubbs_results_after <- perform_grubbs_test(dane_cleaned_max_min)\n",
    "grubbs_results_after"
   ]
  },
  {
   "cell_type": "markdown",
   "metadata": {},
   "source": [
    "Po usunięciu skrajnych wartości test Grubbsa wskazuje mniej istotnych wartości odstających. `chla` (72.5, p = 0.04) i `przew` (317, p = 0.00) wciąż mają istotne odstępstwa, ale ich skrajności zostały złagodzone. Dla innych zmiennych wartości odstające przestały być istotne (p > 0.05)."
   ]
  },
  {
   "cell_type": "code",
   "execution_count": 19,
   "metadata": {
    "vscode": {
     "languageId": "r"
    }
   },
   "outputs": [
    {
     "data": {
      "text/html": [
       "<table class=\"dataframe\">\n",
       "<caption>A grouped_df: 8 × 3</caption>\n",
       "<thead>\n",
       "\t<tr><th scope=col>zmienna</th><th scope=col>p.value</th><th scope=col>alternative</th></tr>\n",
       "\t<tr><th scope=col>&lt;chr&gt;</th><th scope=col>&lt;dbl&gt;</th><th scope=col>&lt;chr&gt;</th></tr>\n",
       "</thead>\n",
       "<tbody>\n",
       "\t<tr><td>ITS  </td><td>1</td><td>lowest value 7.73416 is an outlier</td></tr>\n",
       "\t<tr><td>bar  </td><td>1</td><td>lowest value 5 is an outlier      </td></tr>\n",
       "\t<tr><td>chla </td><td>1</td><td>lowest value 1.25 is an outlier   </td></tr>\n",
       "\t<tr><td>namon</td><td>1</td><td>lowest value 0 is an outlier      </td></tr>\n",
       "\t<tr><td>nas  </td><td>1</td><td>lowest value 75.9 is an outlier   </td></tr>\n",
       "\t<tr><td>ph   </td><td>1</td><td>lowest value 7.4 is an outlier    </td></tr>\n",
       "\t<tr><td>przew</td><td>1</td><td>lowest value 155 is an outlier    </td></tr>\n",
       "\t<tr><td>temp </td><td>1</td><td>highest value 21.5 is an outlier  </td></tr>\n",
       "</tbody>\n",
       "</table>\n"
      ],
      "text/latex": [
       "A grouped\\_df: 8 × 3\n",
       "\\begin{tabular}{lll}\n",
       " zmienna & p.value & alternative\\\\\n",
       " <chr> & <dbl> & <chr>\\\\\n",
       "\\hline\n",
       "\t ITS   & 1 & lowest value 7.73416 is an outlier\\\\\n",
       "\t bar   & 1 & lowest value 5 is an outlier      \\\\\n",
       "\t chla  & 1 & lowest value 1.25 is an outlier   \\\\\n",
       "\t namon & 1 & lowest value 0 is an outlier      \\\\\n",
       "\t nas   & 1 & lowest value 75.9 is an outlier   \\\\\n",
       "\t ph    & 1 & lowest value 7.4 is an outlier    \\\\\n",
       "\t przew & 1 & lowest value 155 is an outlier    \\\\\n",
       "\t temp  & 1 & highest value 21.5 is an outlier  \\\\\n",
       "\\end{tabular}\n"
      ],
      "text/markdown": [
       "\n",
       "A grouped_df: 8 × 3\n",
       "\n",
       "| zmienna &lt;chr&gt; | p.value &lt;dbl&gt; | alternative &lt;chr&gt; |\n",
       "|---|---|---|\n",
       "| ITS   | 1 | lowest value 7.73416 is an outlier |\n",
       "| bar   | 1 | lowest value 5 is an outlier       |\n",
       "| chla  | 1 | lowest value 1.25 is an outlier    |\n",
       "| namon | 1 | lowest value 0 is an outlier       |\n",
       "| nas   | 1 | lowest value 75.9 is an outlier    |\n",
       "| ph    | 1 | lowest value 7.4 is an outlier     |\n",
       "| przew | 1 | lowest value 155 is an outlier     |\n",
       "| temp  | 1 | highest value 21.5 is an outlier   |\n",
       "\n"
      ],
      "text/plain": [
       "  zmienna p.value alternative                       \n",
       "1 ITS     1       lowest value 7.73416 is an outlier\n",
       "2 bar     1       lowest value 5 is an outlier      \n",
       "3 chla    1       lowest value 1.25 is an outlier   \n",
       "4 namon   1       lowest value 0 is an outlier      \n",
       "5 nas     1       lowest value 75.9 is an outlier   \n",
       "6 ph      1       lowest value 7.4 is an outlier    \n",
       "7 przew   1       lowest value 155 is an outlier    \n",
       "8 temp    1       highest value 21.5 is an outlier  "
      ]
     },
     "metadata": {},
     "output_type": "display_data"
    }
   ],
   "source": [
    "# Wyniki testu Grubbsa po drugiej stronie rozkładu\n",
    "grubbs_results_after_opposite <- perform_grubbs_test(dane_cleaned_max_min, opposite = TRUE)\n",
    "grubbs_results_after_opposite"
   ]
  },
  {
   "cell_type": "markdown",
   "metadata": {},
   "source": [
    "Po usunięciu skrajnych wartości test Grubbsa dla przeciwnej strony rozkładu nie wykazał żadnych istotnych wartości odstających (p-value = 1 dla wszystkich zmiennych). Oznacza to, że po oczyszczeniu danych niskie wartości przestały być uznawane za odstające."
   ]
  },
  {
   "cell_type": "markdown",
   "metadata": {},
   "source": [
    "### Test Dixona"
   ]
  },
  {
   "cell_type": "markdown",
   "metadata": {},
   "source": [
    "#### Przed odrzuconymi wartościami odstającymi"
   ]
  },
  {
   "cell_type": "code",
   "execution_count": 20,
   "metadata": {
    "vscode": {
     "languageId": "r"
    }
   },
   "outputs": [
    {
     "data": {
      "text/html": [
       "<table class=\"dataframe\">\n",
       "<caption>A grouped_df: 8 × 3</caption>\n",
       "<thead>\n",
       "\t<tr><th scope=col>zmienna</th><th scope=col>p.value</th><th scope=col>alternative</th></tr>\n",
       "\t<tr><th scope=col>&lt;chr&gt;</th><th scope=col>&lt;dbl&gt;</th><th scope=col>&lt;chr&gt;</th></tr>\n",
       "</thead>\n",
       "<tbody>\n",
       "\t<tr><td>ITS  </td><td>0.47</td><td>highest value 8.82574 is an outlier</td></tr>\n",
       "\t<tr><td>bar  </td><td>0.00</td><td>highest value 40 is an outlier     </td></tr>\n",
       "\t<tr><td>chla </td><td>0.89</td><td>highest value 72.5 is an outlier   </td></tr>\n",
       "\t<tr><td>namon</td><td>0.30</td><td>highest value 0.24 is an outlier   </td></tr>\n",
       "\t<tr><td>nas  </td><td>0.62</td><td>highest value 118.8 is an outlier  </td></tr>\n",
       "\t<tr><td>ph   </td><td>0.72</td><td>lowest value 7.4 is an outlier     </td></tr>\n",
       "\t<tr><td>przew</td><td>0.23</td><td>lowest value 122 is an outlier     </td></tr>\n",
       "\t<tr><td>temp </td><td>0.81</td><td>lowest value 8 is an outlier       </td></tr>\n",
       "</tbody>\n",
       "</table>\n"
      ],
      "text/latex": [
       "A grouped\\_df: 8 × 3\n",
       "\\begin{tabular}{lll}\n",
       " zmienna & p.value & alternative\\\\\n",
       " <chr> & <dbl> & <chr>\\\\\n",
       "\\hline\n",
       "\t ITS   & 0.47 & highest value 8.82574 is an outlier\\\\\n",
       "\t bar   & 0.00 & highest value 40 is an outlier     \\\\\n",
       "\t chla  & 0.89 & highest value 72.5 is an outlier   \\\\\n",
       "\t namon & 0.30 & highest value 0.24 is an outlier   \\\\\n",
       "\t nas   & 0.62 & highest value 118.8 is an outlier  \\\\\n",
       "\t ph    & 0.72 & lowest value 7.4 is an outlier     \\\\\n",
       "\t przew & 0.23 & lowest value 122 is an outlier     \\\\\n",
       "\t temp  & 0.81 & lowest value 8 is an outlier       \\\\\n",
       "\\end{tabular}\n"
      ],
      "text/markdown": [
       "\n",
       "A grouped_df: 8 × 3\n",
       "\n",
       "| zmienna &lt;chr&gt; | p.value &lt;dbl&gt; | alternative &lt;chr&gt; |\n",
       "|---|---|---|\n",
       "| ITS   | 0.47 | highest value 8.82574 is an outlier |\n",
       "| bar   | 0.00 | highest value 40 is an outlier      |\n",
       "| chla  | 0.89 | highest value 72.5 is an outlier    |\n",
       "| namon | 0.30 | highest value 0.24 is an outlier    |\n",
       "| nas   | 0.62 | highest value 118.8 is an outlier   |\n",
       "| ph    | 0.72 | lowest value 7.4 is an outlier      |\n",
       "| przew | 0.23 | lowest value 122 is an outlier      |\n",
       "| temp  | 0.81 | lowest value 8 is an outlier        |\n",
       "\n"
      ],
      "text/plain": [
       "  zmienna p.value alternative                        \n",
       "1 ITS     0.47    highest value 8.82574 is an outlier\n",
       "2 bar     0.00    highest value 40 is an outlier     \n",
       "3 chla    0.89    highest value 72.5 is an outlier   \n",
       "4 namon   0.30    highest value 0.24 is an outlier   \n",
       "5 nas     0.62    highest value 118.8 is an outlier  \n",
       "6 ph      0.72    lowest value 7.4 is an outlier     \n",
       "7 przew   0.23    lowest value 122 is an outlier     \n",
       "8 temp    0.81    lowest value 8 is an outlier       "
      ]
     },
     "metadata": {},
     "output_type": "display_data"
    }
   ],
   "source": [
    "# Funkcja do przeprowadzenia testu Dixona\n",
    "\n",
    "perform_dixon_test <- function(data, type = 0, opposite = FALSE) {\n",
    "    results <- data %>% \n",
    "        select(all_of(kolumny_do_analizy)) %>% \n",
    "        map_df(~broom::tidy(dixon.test(.,type = type, opposite = opposite)), .id = \"zmienna\")\n",
    "    \n",
    "    results <- results %>% \n",
    "        group_by(zmienna) %>% \n",
    "        slice(1) %>% \n",
    "        mutate(p.value = round(p.value, 2))\n",
    "    \n",
    "    return(results %>% select(zmienna, p.value, alternative))\n",
    "}\n",
    "\n",
    "\n",
    "dane_30_wierszy <- dane %>% slice(1:30)\n",
    "# Wyniki testu Dixona przed usunięciem wartości odstających\n",
    "dixon_results_before <- perform_dixon_test(dane_30_wierszy)\n",
    "dixon_results_before"
   ]
  },
  {
   "cell_type": "markdown",
   "metadata": {},
   "source": [
    "Wyniki testu Dixona przeprowadzonego na pierwszych 30 obserwacjach wskazują, że jedynie w przypadku zmiennej `bar` (p = 0.00) najwyższa wartość (40) została uznana za istotną statystycznie wartość odstającą. Dla pozostałych zmiennych, pomimo wskazania potencjalnych wartości odstających, p-value jest większe niż 0.05, co oznacza brak istotności statystycznej. Oznacza to, że dla większości zmiennych test Dixona nie potwierdził obecności istotnych odstępstw."
   ]
  },
  {
   "cell_type": "code",
   "execution_count": 21,
   "metadata": {
    "vscode": {
     "languageId": "r"
    }
   },
   "outputs": [
    {
     "data": {
      "text/html": [
       "<table class=\"dataframe\">\n",
       "<caption>A grouped_df: 8 × 3</caption>\n",
       "<thead>\n",
       "\t<tr><th scope=col>zmienna</th><th scope=col>p.value</th><th scope=col>alternative</th></tr>\n",
       "\t<tr><th scope=col>&lt;chr&gt;</th><th scope=col>&lt;dbl&gt;</th><th scope=col>&lt;chr&gt;</th></tr>\n",
       "</thead>\n",
       "<tbody>\n",
       "\t<tr><td>ITS  </td><td>0.56</td><td>lowest value 7.64986 is an outlier</td></tr>\n",
       "\t<tr><td>bar  </td><td>0.59</td><td>lowest value 0 is an outlier      </td></tr>\n",
       "\t<tr><td>chla </td><td>0.03</td><td>lowest value 1.1 is an outlier    </td></tr>\n",
       "\t<tr><td>namon</td><td>0.00</td><td>lowest value 0 is an outlier      </td></tr>\n",
       "\t<tr><td>nas  </td><td>0.30</td><td>lowest value 80.78 is an outlier  </td></tr>\n",
       "\t<tr><td>ph   </td><td>0.26</td><td>highest value 8.9 is an outlier   </td></tr>\n",
       "\t<tr><td>przew</td><td>0.32</td><td>highest value 238 is an outlier   </td></tr>\n",
       "\t<tr><td>temp </td><td>0.56</td><td>highest value 22.5 is an outlier  </td></tr>\n",
       "</tbody>\n",
       "</table>\n"
      ],
      "text/latex": [
       "A grouped\\_df: 8 × 3\n",
       "\\begin{tabular}{lll}\n",
       " zmienna & p.value & alternative\\\\\n",
       " <chr> & <dbl> & <chr>\\\\\n",
       "\\hline\n",
       "\t ITS   & 0.56 & lowest value 7.64986 is an outlier\\\\\n",
       "\t bar   & 0.59 & lowest value 0 is an outlier      \\\\\n",
       "\t chla  & 0.03 & lowest value 1.1 is an outlier    \\\\\n",
       "\t namon & 0.00 & lowest value 0 is an outlier      \\\\\n",
       "\t nas   & 0.30 & lowest value 80.78 is an outlier  \\\\\n",
       "\t ph    & 0.26 & highest value 8.9 is an outlier   \\\\\n",
       "\t przew & 0.32 & highest value 238 is an outlier   \\\\\n",
       "\t temp  & 0.56 & highest value 22.5 is an outlier  \\\\\n",
       "\\end{tabular}\n"
      ],
      "text/markdown": [
       "\n",
       "A grouped_df: 8 × 3\n",
       "\n",
       "| zmienna &lt;chr&gt; | p.value &lt;dbl&gt; | alternative &lt;chr&gt; |\n",
       "|---|---|---|\n",
       "| ITS   | 0.56 | lowest value 7.64986 is an outlier |\n",
       "| bar   | 0.59 | lowest value 0 is an outlier       |\n",
       "| chla  | 0.03 | lowest value 1.1 is an outlier     |\n",
       "| namon | 0.00 | lowest value 0 is an outlier       |\n",
       "| nas   | 0.30 | lowest value 80.78 is an outlier   |\n",
       "| ph    | 0.26 | highest value 8.9 is an outlier    |\n",
       "| przew | 0.32 | highest value 238 is an outlier    |\n",
       "| temp  | 0.56 | highest value 22.5 is an outlier   |\n",
       "\n"
      ],
      "text/plain": [
       "  zmienna p.value alternative                       \n",
       "1 ITS     0.56    lowest value 7.64986 is an outlier\n",
       "2 bar     0.59    lowest value 0 is an outlier      \n",
       "3 chla    0.03    lowest value 1.1 is an outlier    \n",
       "4 namon   0.00    lowest value 0 is an outlier      \n",
       "5 nas     0.30    lowest value 80.78 is an outlier  \n",
       "6 ph      0.26    highest value 8.9 is an outlier   \n",
       "7 przew   0.32    highest value 238 is an outlier   \n",
       "8 temp    0.56    highest value 22.5 is an outlier  "
      ]
     },
     "metadata": {},
     "output_type": "display_data"
    }
   ],
   "source": [
    "# Wyniki testu Dixona po drugiej stronie rozkładu\n",
    "dixon_results_before_opposite <- perform_dixon_test(dane_30_wierszy, opposite = TRUE)\n",
    "dixon_results_before_opposite"
   ]
  },
  {
   "cell_type": "markdown",
   "metadata": {},
   "source": [
    "Po przeciwnej stronie rozkładu test Dixona wykazał istotne wartości odstające dla zmiennych `chla` (1.1, p = 0.03) i `namon` (0, p = 0.00). Dla pozostałych zmiennych wartości odstające nie są statystycznie istotne (p > 0.05)."
   ]
  },
  {
   "cell_type": "markdown",
   "metadata": {},
   "source": [
    "#### Po odrzuconych wartościach odstających"
   ]
  },
  {
   "cell_type": "code",
   "execution_count": 22,
   "metadata": {
    "vscode": {
     "languageId": "r"
    }
   },
   "outputs": [
    {
     "data": {
      "text/html": [
       "<table class=\"dataframe\">\n",
       "<caption>A grouped_df: 8 × 3</caption>\n",
       "<thead>\n",
       "\t<tr><th scope=col>zmienna</th><th scope=col>p.value</th><th scope=col>alternative</th></tr>\n",
       "\t<tr><th scope=col>&lt;chr&gt;</th><th scope=col>&lt;dbl&gt;</th><th scope=col>&lt;chr&gt;</th></tr>\n",
       "</thead>\n",
       "<tbody>\n",
       "\t<tr><td>ITS  </td><td>0.31</td><td>highest value 8.76815 is an outlier</td></tr>\n",
       "\t<tr><td>bar  </td><td>0.41</td><td>highest value 40 is an outlier     </td></tr>\n",
       "\t<tr><td>chla </td><td>0.48</td><td>highest value 64 is an outlier     </td></tr>\n",
       "\t<tr><td>namon</td><td>0.29</td><td>highest value 0.24 is an outlier   </td></tr>\n",
       "\t<tr><td>nas  </td><td>0.10</td><td>highest value 114.45 is an outlier </td></tr>\n",
       "\t<tr><td>ph   </td><td>0.04</td><td>highest value 8.8 is an outlier    </td></tr>\n",
       "\t<tr><td>przew</td><td>0.63</td><td>lowest value 155 is an outlier     </td></tr>\n",
       "\t<tr><td>temp </td><td>0.69</td><td>highest value 21.5 is an outlier   </td></tr>\n",
       "</tbody>\n",
       "</table>\n"
      ],
      "text/latex": [
       "A grouped\\_df: 8 × 3\n",
       "\\begin{tabular}{lll}\n",
       " zmienna & p.value & alternative\\\\\n",
       " <chr> & <dbl> & <chr>\\\\\n",
       "\\hline\n",
       "\t ITS   & 0.31 & highest value 8.76815 is an outlier\\\\\n",
       "\t bar   & 0.41 & highest value 40 is an outlier     \\\\\n",
       "\t chla  & 0.48 & highest value 64 is an outlier     \\\\\n",
       "\t namon & 0.29 & highest value 0.24 is an outlier   \\\\\n",
       "\t nas   & 0.10 & highest value 114.45 is an outlier \\\\\n",
       "\t ph    & 0.04 & highest value 8.8 is an outlier    \\\\\n",
       "\t przew & 0.63 & lowest value 155 is an outlier     \\\\\n",
       "\t temp  & 0.69 & highest value 21.5 is an outlier   \\\\\n",
       "\\end{tabular}\n"
      ],
      "text/markdown": [
       "\n",
       "A grouped_df: 8 × 3\n",
       "\n",
       "| zmienna &lt;chr&gt; | p.value &lt;dbl&gt; | alternative &lt;chr&gt; |\n",
       "|---|---|---|\n",
       "| ITS   | 0.31 | highest value 8.76815 is an outlier |\n",
       "| bar   | 0.41 | highest value 40 is an outlier      |\n",
       "| chla  | 0.48 | highest value 64 is an outlier      |\n",
       "| namon | 0.29 | highest value 0.24 is an outlier    |\n",
       "| nas   | 0.10 | highest value 114.45 is an outlier  |\n",
       "| ph    | 0.04 | highest value 8.8 is an outlier     |\n",
       "| przew | 0.63 | lowest value 155 is an outlier      |\n",
       "| temp  | 0.69 | highest value 21.5 is an outlier    |\n",
       "\n"
      ],
      "text/plain": [
       "  zmienna p.value alternative                        \n",
       "1 ITS     0.31    highest value 8.76815 is an outlier\n",
       "2 bar     0.41    highest value 40 is an outlier     \n",
       "3 chla    0.48    highest value 64 is an outlier     \n",
       "4 namon   0.29    highest value 0.24 is an outlier   \n",
       "5 nas     0.10    highest value 114.45 is an outlier \n",
       "6 ph      0.04    highest value 8.8 is an outlier    \n",
       "7 przew   0.63    lowest value 155 is an outlier     \n",
       "8 temp    0.69    highest value 21.5 is an outlier   "
      ]
     },
     "metadata": {},
     "output_type": "display_data"
    }
   ],
   "source": [
    "# Usunięcie wartości odstających\n",
    "dane_30_cleaned_max_min <- delate_max_and_min_values(dane_30_wierszy)\n",
    "\n",
    "# Wyniki testu Dixona po usunięciu wartości odstających\n",
    "dixon_results_after <- perform_dixon_test(dane_30_cleaned_max_min)\n",
    "dixon_results_after"
   ]
  },
  {
   "cell_type": "markdown",
   "metadata": {},
   "source": [
    "Po usunięciu skrajnych wartości test Dixona wykazał, że oprócz `ph` (8.8, p = 0.04), żadna z wartości odstających nie jest statystycznie istotna (p > 0.05)."
   ]
  },
  {
   "cell_type": "code",
   "execution_count": 23,
   "metadata": {
    "vscode": {
     "languageId": "r"
    }
   },
   "outputs": [
    {
     "data": {
      "text/html": [
       "<table class=\"dataframe\">\n",
       "<caption>A grouped_df: 8 × 3</caption>\n",
       "<thead>\n",
       "\t<tr><th scope=col>zmienna</th><th scope=col>p.value</th><th scope=col>alternative</th></tr>\n",
       "\t<tr><th scope=col>&lt;chr&gt;</th><th scope=col>&lt;dbl&gt;</th><th scope=col>&lt;chr&gt;</th></tr>\n",
       "</thead>\n",
       "<tbody>\n",
       "\t<tr><td>ITS  </td><td>0.28</td><td>lowest value 7.73416 is an outlier</td></tr>\n",
       "\t<tr><td>bar  </td><td>0.00</td><td>lowest value 5 is an outlier      </td></tr>\n",
       "\t<tr><td>chla </td><td>0.00</td><td>lowest value 2.3 is an outlier    </td></tr>\n",
       "\t<tr><td>namon</td><td>0.01</td><td>lowest value 0 is an outlier      </td></tr>\n",
       "\t<tr><td>nas  </td><td>0.58</td><td>lowest value 83.5 is an outlier   </td></tr>\n",
       "\t<tr><td>ph   </td><td>0.16</td><td>lowest value 7.6 is an outlier    </td></tr>\n",
       "\t<tr><td>przew</td><td>0.63</td><td>highest value 231 is an outlier   </td></tr>\n",
       "\t<tr><td>temp </td><td>0.39</td><td>lowest value 10 is an outlier     </td></tr>\n",
       "</tbody>\n",
       "</table>\n"
      ],
      "text/latex": [
       "A grouped\\_df: 8 × 3\n",
       "\\begin{tabular}{lll}\n",
       " zmienna & p.value & alternative\\\\\n",
       " <chr> & <dbl> & <chr>\\\\\n",
       "\\hline\n",
       "\t ITS   & 0.28 & lowest value 7.73416 is an outlier\\\\\n",
       "\t bar   & 0.00 & lowest value 5 is an outlier      \\\\\n",
       "\t chla  & 0.00 & lowest value 2.3 is an outlier    \\\\\n",
       "\t namon & 0.01 & lowest value 0 is an outlier      \\\\\n",
       "\t nas   & 0.58 & lowest value 83.5 is an outlier   \\\\\n",
       "\t ph    & 0.16 & lowest value 7.6 is an outlier    \\\\\n",
       "\t przew & 0.63 & highest value 231 is an outlier   \\\\\n",
       "\t temp  & 0.39 & lowest value 10 is an outlier     \\\\\n",
       "\\end{tabular}\n"
      ],
      "text/markdown": [
       "\n",
       "A grouped_df: 8 × 3\n",
       "\n",
       "| zmienna &lt;chr&gt; | p.value &lt;dbl&gt; | alternative &lt;chr&gt; |\n",
       "|---|---|---|\n",
       "| ITS   | 0.28 | lowest value 7.73416 is an outlier |\n",
       "| bar   | 0.00 | lowest value 5 is an outlier       |\n",
       "| chla  | 0.00 | lowest value 2.3 is an outlier     |\n",
       "| namon | 0.01 | lowest value 0 is an outlier       |\n",
       "| nas   | 0.58 | lowest value 83.5 is an outlier    |\n",
       "| ph    | 0.16 | lowest value 7.6 is an outlier     |\n",
       "| przew | 0.63 | highest value 231 is an outlier    |\n",
       "| temp  | 0.39 | lowest value 10 is an outlier      |\n",
       "\n"
      ],
      "text/plain": [
       "  zmienna p.value alternative                       \n",
       "1 ITS     0.28    lowest value 7.73416 is an outlier\n",
       "2 bar     0.00    lowest value 5 is an outlier      \n",
       "3 chla    0.00    lowest value 2.3 is an outlier    \n",
       "4 namon   0.01    lowest value 0 is an outlier      \n",
       "5 nas     0.58    lowest value 83.5 is an outlier   \n",
       "6 ph      0.16    lowest value 7.6 is an outlier    \n",
       "7 przew   0.63    highest value 231 is an outlier   \n",
       "8 temp    0.39    lowest value 10 is an outlier     "
      ]
     },
     "metadata": {},
     "output_type": "display_data"
    }
   ],
   "source": [
    "# Wyniki testu Dixona po drugiej stronie rozkładu\n",
    "dixon_results_after_opposite <- perform_dixon_test(dane_30_cleaned_max_min, opposite = TRUE)\n",
    "dixon_results_after_opposite"
   ]
  },
  {
   "cell_type": "markdown",
   "metadata": {},
   "source": [
    "Po usunięciu skrajnych wartości test Dixona po drugiej stronie rozkładu wykazał istotne wartości odstające dla zmiennych `bar` (5, p = 0.00), `chla` (2.3, p = 0.00), oraz `namon` (0, p = 0.01). Dla pozostałych zmiennych p-value jest większe niż 0.05, co oznacza brak istotnych wartości odstających po oczyszczeniu danych."
   ]
  },
  {
   "cell_type": "markdown",
   "metadata": {},
   "source": [
    "### Metoda IQR (Interquartile Range)\n",
    "\n",
    "Wartości odstające są identyfikowane na podstawie odległości między kwartylami Q1 i Q3. Wartości odstające są identyfikowane jako wartości, które są mniejsze niż Q1 - 1,5 * IQR lub większe niż Q3 + 1,5 * IQR, gdzie IQR = Q3 - Q1."
   ]
  },
  {
   "cell_type": "code",
   "execution_count": 24,
   "metadata": {
    "vscode": {
     "languageId": "r"
    }
   },
   "outputs": [
    {
     "data": {
      "text/html": [
       "<table class=\"dataframe\">\n",
       "<caption>A tibble: 6 × 16</caption>\n",
       "<thead>\n",
       "\t<tr><th scope=col>chla</th><th scope=col>temp</th><th scope=col>bar</th><th scope=col>nas</th><th scope=col>przew</th><th scope=col>ph</th><th scope=col>namon</th><th scope=col>ITS</th><th scope=col>outlier_chla</th><th scope=col>outlier_temp</th><th scope=col>outlier_bar</th><th scope=col>outlier_nas</th><th scope=col>outlier_przew</th><th scope=col>outlier_ph</th><th scope=col>outlier_namon</th><th scope=col>outlier_ITS</th></tr>\n",
       "\t<tr><th scope=col>&lt;dbl&gt;</th><th scope=col>&lt;dbl&gt;</th><th scope=col>&lt;dbl&gt;</th><th scope=col>&lt;dbl&gt;</th><th scope=col>&lt;dbl&gt;</th><th scope=col>&lt;dbl&gt;</th><th scope=col>&lt;dbl&gt;</th><th scope=col>&lt;dbl&gt;</th><th scope=col>&lt;dbl&gt;</th><th scope=col>&lt;dbl&gt;</th><th scope=col>&lt;dbl&gt;</th><th scope=col>&lt;dbl&gt;</th><th scope=col>&lt;dbl&gt;</th><th scope=col>&lt;dbl&gt;</th><th scope=col>&lt;dbl&gt;</th><th scope=col>&lt;dbl&gt;</th></tr>\n",
       "</thead>\n",
       "<tbody>\n",
       "\t<tr><td> 1.1</td><td>12.0</td><td>10</td><td> 80.78</td><td>176</td><td>7.40</td><td>0.100</td><td>7.64986</td><td>0</td><td>0</td><td>0</td><td>0</td><td>0</td><td>0</td><td>0</td><td>0</td></tr>\n",
       "\t<tr><td> 2.5</td><td>15.2</td><td>20</td><td> 89.68</td><td>157</td><td>7.60</td><td>0.100</td><td>7.73416</td><td>0</td><td>0</td><td>0</td><td>0</td><td>0</td><td>0</td><td>0</td><td>0</td></tr>\n",
       "\t<tr><td> 8.6</td><td>19.0</td><td> 5</td><td> 87.50</td><td>207</td><td>8.00</td><td>0.050</td><td>8.16250</td><td>0</td><td>0</td><td>0</td><td>0</td><td>0</td><td>0</td><td>0</td><td>0</td></tr>\n",
       "\t<tr><td> 2.3</td><td>19.5</td><td>10</td><td> 83.50</td><td>189</td><td>7.67</td><td>0.050</td><td>7.88450</td><td>0</td><td>0</td><td>0</td><td>0</td><td>0</td><td>0</td><td>0</td><td>0</td></tr>\n",
       "\t<tr><td> 7.5</td><td>12.0</td><td> 0</td><td>108.30</td><td>122</td><td>8.20</td><td>0.004</td><td>8.09210</td><td>0</td><td>0</td><td>0</td><td>0</td><td>1</td><td>0</td><td>1</td><td>0</td></tr>\n",
       "\t<tr><td>10.3</td><td>21.5</td><td> 5</td><td> 94.16</td><td>202</td><td>8.10</td><td>0.140</td><td>8.17592</td><td>0</td><td>0</td><td>0</td><td>0</td><td>0</td><td>0</td><td>0</td><td>0</td></tr>\n",
       "</tbody>\n",
       "</table>\n"
      ],
      "text/latex": [
       "A tibble: 6 × 16\n",
       "\\begin{tabular}{llllllllllllllll}\n",
       " chla & temp & bar & nas & przew & ph & namon & ITS & outlier\\_chla & outlier\\_temp & outlier\\_bar & outlier\\_nas & outlier\\_przew & outlier\\_ph & outlier\\_namon & outlier\\_ITS\\\\\n",
       " <dbl> & <dbl> & <dbl> & <dbl> & <dbl> & <dbl> & <dbl> & <dbl> & <dbl> & <dbl> & <dbl> & <dbl> & <dbl> & <dbl> & <dbl> & <dbl>\\\\\n",
       "\\hline\n",
       "\t  1.1 & 12.0 & 10 &  80.78 & 176 & 7.40 & 0.100 & 7.64986 & 0 & 0 & 0 & 0 & 0 & 0 & 0 & 0\\\\\n",
       "\t  2.5 & 15.2 & 20 &  89.68 & 157 & 7.60 & 0.100 & 7.73416 & 0 & 0 & 0 & 0 & 0 & 0 & 0 & 0\\\\\n",
       "\t  8.6 & 19.0 &  5 &  87.50 & 207 & 8.00 & 0.050 & 8.16250 & 0 & 0 & 0 & 0 & 0 & 0 & 0 & 0\\\\\n",
       "\t  2.3 & 19.5 & 10 &  83.50 & 189 & 7.67 & 0.050 & 7.88450 & 0 & 0 & 0 & 0 & 0 & 0 & 0 & 0\\\\\n",
       "\t  7.5 & 12.0 &  0 & 108.30 & 122 & 8.20 & 0.004 & 8.09210 & 0 & 0 & 0 & 0 & 1 & 0 & 1 & 0\\\\\n",
       "\t 10.3 & 21.5 &  5 &  94.16 & 202 & 8.10 & 0.140 & 8.17592 & 0 & 0 & 0 & 0 & 0 & 0 & 0 & 0\\\\\n",
       "\\end{tabular}\n"
      ],
      "text/markdown": [
       "\n",
       "A tibble: 6 × 16\n",
       "\n",
       "| chla &lt;dbl&gt; | temp &lt;dbl&gt; | bar &lt;dbl&gt; | nas &lt;dbl&gt; | przew &lt;dbl&gt; | ph &lt;dbl&gt; | namon &lt;dbl&gt; | ITS &lt;dbl&gt; | outlier_chla &lt;dbl&gt; | outlier_temp &lt;dbl&gt; | outlier_bar &lt;dbl&gt; | outlier_nas &lt;dbl&gt; | outlier_przew &lt;dbl&gt; | outlier_ph &lt;dbl&gt; | outlier_namon &lt;dbl&gt; | outlier_ITS &lt;dbl&gt; |\n",
       "|---|---|---|---|---|---|---|---|---|---|---|---|---|---|---|---|\n",
       "|  1.1 | 12.0 | 10 |  80.78 | 176 | 7.40 | 0.100 | 7.64986 | 0 | 0 | 0 | 0 | 0 | 0 | 0 | 0 |\n",
       "|  2.5 | 15.2 | 20 |  89.68 | 157 | 7.60 | 0.100 | 7.73416 | 0 | 0 | 0 | 0 | 0 | 0 | 0 | 0 |\n",
       "|  8.6 | 19.0 |  5 |  87.50 | 207 | 8.00 | 0.050 | 8.16250 | 0 | 0 | 0 | 0 | 0 | 0 | 0 | 0 |\n",
       "|  2.3 | 19.5 | 10 |  83.50 | 189 | 7.67 | 0.050 | 7.88450 | 0 | 0 | 0 | 0 | 0 | 0 | 0 | 0 |\n",
       "|  7.5 | 12.0 |  0 | 108.30 | 122 | 8.20 | 0.004 | 8.09210 | 0 | 0 | 0 | 0 | 1 | 0 | 1 | 0 |\n",
       "| 10.3 | 21.5 |  5 |  94.16 | 202 | 8.10 | 0.140 | 8.17592 | 0 | 0 | 0 | 0 | 0 | 0 | 0 | 0 |\n",
       "\n"
      ],
      "text/plain": [
       "  chla temp bar nas    przew ph   namon ITS     outlier_chla outlier_temp\n",
       "1  1.1 12.0 10   80.78 176   7.40 0.100 7.64986 0            0           \n",
       "2  2.5 15.2 20   89.68 157   7.60 0.100 7.73416 0            0           \n",
       "3  8.6 19.0  5   87.50 207   8.00 0.050 8.16250 0            0           \n",
       "4  2.3 19.5 10   83.50 189   7.67 0.050 7.88450 0            0           \n",
       "5  7.5 12.0  0  108.30 122   8.20 0.004 8.09210 0            0           \n",
       "6 10.3 21.5  5   94.16 202   8.10 0.140 8.17592 0            0           \n",
       "  outlier_bar outlier_nas outlier_przew outlier_ph outlier_namon outlier_ITS\n",
       "1 0           0           0             0          0             0          \n",
       "2 0           0           0             0          0             0          \n",
       "3 0           0           0             0          0             0          \n",
       "4 0           0           0             0          0             0          \n",
       "5 0           0           1             0          1             0          \n",
       "6 0           0           0             0          0             0          "
      ]
     },
     "metadata": {},
     "output_type": "display_data"
    }
   ],
   "source": [
    "detect_outliers_iqr <- function(data, variable) {\n",
    "  Q1 <- quantile(data[[variable]], 0.25)\n",
    "  Q3 <- quantile(data[[variable]], 0.75)\n",
    "  IQR <- Q3 - Q1\n",
    "  lower_bound <- Q1 - 1.5 * IQR\n",
    "  upper_bound <- Q3 + 1.5 * IQR\n",
    "  data %>% filter(data[[variable]] < lower_bound | data[[variable]] > upper_bound)\n",
    "}\n",
    "detect_outliers_iqr_all <- function(data, variables) {\n",
    "    outliers_df <- data %>% mutate(across(all_of(variables), ~ifelse(. < quantile(., 0.25) - 1.5 * IQR(.) | . > quantile(., 0.75) + 1.5 * IQR(.), 1, 0), .names = \"outlier_{col}\"))\n",
    "    return(outliers_df)\n",
    "}\n",
    "\n",
    "dane_with_outliers <- detect_outliers_iqr_all(dane, kolumny_do_analizy)\n",
    "head(dane_with_outliers)\n",
    "\n"
   ]
  },
  {
   "cell_type": "code",
   "execution_count": 25,
   "metadata": {
    "vscode": {
     "languageId": "r"
    }
   },
   "outputs": [
    {
     "data": {
      "image/png": "[encoded data removed]",
      "text/plain": [
       "plot without title"
      ]
     },
     "metadata": {
      "image/png": {
       "height": 420,
       "width": 420
      }
     },
     "output_type": "display_data"
    }
   ],
   "source": [
    "# Standaryzacja danych\n",
    "dane_standardized <- dane %>% \n",
    "    mutate(across(all_of(kolumny_do_analizy), ~scale(.) %>% as.vector()))\n",
    "\n",
    "# Dodanie informacji o outlierach do zestandaryzowanych danych\n",
    "dane_standardized_with_outliers <- detect_outliers_iqr_all(dane_standardized, kolumny_do_analizy)\n",
    "\n",
    "# Przekształcenie danych do formatu długiego z informacją o outlierach\n",
    "dane_long_outliers_standardized <- dane_standardized_with_outliers %>% \n",
    "    pivot_longer(cols = all_of(kolumny_do_analizy), names_to = \"zmienna\", values_to = \"wartosc\") %>% \n",
    "    pivot_longer(cols = starts_with(\"outlier_\"), names_to = \"outlier_zmienna\", values_to = \"outlier\") %>% \n",
    "    filter(str_replace(outlier_zmienna, \"outlier_\", \"\") == zmienna)\n",
    "\n",
    "# Tworzenie wykresu pudełkowego z zaznaczeniem wartości odstających\n",
    "ggplot(dane_long_outliers_standardized, aes(x = zmienna, y = wartosc)) +\n",
    "    geom_boxplot() +\n",
    "    geom_jitter(aes(color = factor(outlier)), width = 0.2, height = 0) +\n",
    "    scale_color_manual(values = c(\"0\" = \"black\", \"1\" = \"red\"), labels = c(\"0\" = \"Normal\", \"1\" = \"Outlier\")) +\n",
    "    labs(title = \"Wykres pudełkowy z zaznaczeniem wartości odstających \\n(zestandaryzowane dane)\",\n",
    "             x = \"Zmienna\",\n",
    "             y = \"Zestandaryzowana wartość\",\n",
    "             color = \"Legenda\") +\n",
    "    theme_minimal()"
   ]
  },
  {
   "cell_type": "markdown",
   "metadata": {},
   "source": [
    "Wykres pudełkowy dobrze obrazuje działanie metody IQR, ponieważ poziome linie, które ograniczają skrzynię, wskazują przedziały kwantyli powiększonych o 1,5 * IQR. Jeśli wartość znajduje się poza tymi granicami, jest uznawana za wartość odstającą. W tym przypadku punkty znajdujące się poza granicami skrzyni zostały dodatkowo wyróżnione kolorem czerwonym.\n",
    "\n",
    "Można zaobserwować, że wartości odstające są identyfikowane w zmiennych `bar`, `chla`, `namon`, `nas` i `przew`. Zmienne te były wskazywane już wcześniej w testach statystycznych jako potencjalne wartości odstające. "
   ]
  },
  {
   "cell_type": "markdown",
   "metadata": {},
   "source": [
    "## Korelacje\n",
    "\n"
   ]
  },
  {
   "cell_type": "markdown",
   "metadata": {},
   "source": [
    "### Korelacja Pearsona\n",
    "\n",
    "**Korelacja Pearsona** to miara statystyczna określająca siłę i kierunek **liniowej** zależności między dwiema zmiennymi. Wartość współczynnika mieści się w przedziale [-1, 1]. Im bliżej 1 lub -1, tym zależność jest silniejsza.\n",
    "\n",
    "Korelacja Pearsona najlepiej opisuje zależności liniowe. Jeśli związek między zmiennymi ma bardziej skomplikowany charakter (np. paraboliczny, wykładniczy), współczynnik Pearsona może nie odzwierciedlać rzeczywistej zależności."
   ]
  },
  {
   "cell_type": "code",
   "execution_count": 26,
   "metadata": {
    "vscode": {
     "languageId": "r"
    }
   },
   "outputs": [
    {
     "name": "stderr",
     "output_type": "stream",
     "text": [
      "Warning message:\n",
      "\"pakiet 'corrplot' został zbudowany w wersji R 4.3.3\"\n",
      "corrplot 0.92 loaded\n",
      "\n"
     ]
    },
    {
     "data": {
      "image/png": "[encoded data removed]",
      "text/plain": [
       "Plot with title \"\""
      ]
     },
     "metadata": {
      "image/png": {
       "height": 420,
       "width": 420
      }
     },
     "output_type": "display_data"
    }
   ],
   "source": [
    "# Korelacja Pearsona\n",
    "library(corrplot)\n",
    "\n",
    "correlation_matrix <- cor(dane_standardized %>% select(all_of(kolumny_do_analizy)), method = \"pearson\")\n",
    "corrplot(\n",
    "    correlation_matrix,\n",
    "    method = \"color\", \n",
    "    type = \"upper\", \n",
    "    tl.col = \"black\", \n",
    "    tl.srt = 45, \n",
    "    addCoef.col = \"black\", \n",
    "    number.cex = 0.7\n",
    ")\n"
   ]
  },
  {
   "cell_type": "markdown",
   "metadata": {},
   "source": [
    "Na podstawie analizy korelacji Pearsona można stwierdzić, że zmienne:\n",
    "\n",
    "- `ITS` i `ph` są silnie skorelowane (0.95),\n",
    "- `nas` i `ph` są silnie skorelowane (0.84),\n",
    "- `ITS` i `nas` są umiarkowanie skorelowane (0.63),\n",
    "\n",
    "pozostałe zmienne są słabo skorelowane lub nie wykazują istotnych zależności."
   ]
  },
  {
   "cell_type": "markdown",
   "metadata": {},
   "source": [
    "### Korelacja Spearmana\n",
    "\n",
    "**Korelacja Spearmana** to miara statystyczna, która służy do oceny siły i kierunku monotonicznej zależności między dwiema zmiennymi. Innymi słowy, pozwala nam sprawdzić, czy wraz ze wzrostem jednej zmiennej, druga również rośnie (zależność dodatnia) lub maleje (zależność ujemna).\n",
    "\n",
    "W przeciwieństwie do korelacji Pearsona, korelacja Spearmana nie musi mieć zależności liniowej, natomiast wymagana jest monotoniczność. Dlatego jest bardziej uniwersalna i może wykryć zależności, które nie zostałyby ujawnione przez korelację Pearsona."
   ]
  },
  {
   "cell_type": "code",
   "execution_count": 27,
   "metadata": {
    "vscode": {
     "languageId": "r"
    }
   },
   "outputs": [
    {
     "data": {
      "image/png": "[encoded data removed]",
      "text/plain": [
       "Plot with title \"\""
      ]
     },
     "metadata": {
      "image/png": {
       "height": 420,
       "width": 420
      }
     },
     "output_type": "display_data"
    }
   ],
   "source": [
    "# Korelacja Spearmana\n",
    "correlation_matrix_spearman <- cor(dane_standardized %>% select(all_of(kolumny_do_analizy)), method = \"spearman\")\n",
    "corrplot(\n",
    "    correlation_matrix_spearman,\n",
    "    method = \"color\", \n",
    "    type = \"upper\", \n",
    "    tl.col = \"black\", \n",
    "    tl.srt = 45, \n",
    "    addCoef.col = \"black\", \n",
    "    number.cex = 0.7\n",
    ")"
   ]
  },
  {
   "cell_type": "markdown",
   "metadata": {},
   "source": [
    "Zależności, które według korelacji Pearsona były sinie skorelowane, według korelacji Spearmana są również silnie skorelowane. Dodatkowo, w porównaniu do korelacji Pearsona, pewne zależności są bardziej wyraźne i sa to:\n",
    "\n",
    "- `chla` i `nas` (0.62)\n",
    "- `chla` i `ph` (0.65)"
   ]
  },
  {
   "cell_type": "markdown",
   "metadata": {},
   "source": [
    "## Autokorelacja (ACF)\n",
    "\n",
    "**Wykresy autokorelacji** pozwalają ocenić, jak bardzo wartości w szeregu czasowym są powiązane z jego przeszłymi wartościami."
   ]
  },
  {
   "cell_type": "code",
   "execution_count": 28,
   "metadata": {
    "vscode": {
     "languageId": "r"
    }
   },
   "outputs": [
    {
     "data": {
      "image/png": "[encoded data removed]",
      "text/plain": [
       "plot without title"
      ]
     },
     "metadata": {
      "image/png": {
       "height": 420,
       "width": 420
      }
     },
     "output_type": "display_data"
    }
   ],
   "source": [
    "\n",
    "# Autokorelacja dla każdej analizowanej kolumny i dla 9 lagów za pomocą ggplot2\n",
    "acf_data <- map_df(kolumny_do_analizy, function(kolumna) {\n",
    "    acf_values <- acf(dane_standardized[[kolumna]], lag.max = 9, plot = FALSE)\n",
    "    tibble(\n",
    "        lag = acf_values$lag,\n",
    "        acf = acf_values$acf,\n",
    "        zmienna = kolumna\n",
    "    )\n",
    "})\n",
    "\n",
    "significance_level <- 1.96 / sqrt(nrow(dane_standardized))\n",
    "\n",
    "ggplot(acf_data, aes(x = lag, y = acf, group = zmienna)) +\n",
    "    geom_bar(stat = \"identity\", width = 0.3) +\n",
    "    geom_hline(yintercept = c(-significance_level, significance_level), linetype = \"dashed\", color = \"red\") +\n",
    "    facet_wrap(~ zmienna, scales = \"free\") +\n",
    "    scale_x_continuous(breaks = seq(0, 9, by = 3)) +\n",
    "    labs(title = \"Autokorelacja dla każdej analizowanej kolumny i dla 9 lagów\",\n",
    "         x = \"Lag\",\n",
    "         y = \"ACF\") +\n",
    "    theme_minimal()\n"
   ]
  },
  {
   "cell_type": "markdown",
   "metadata": {},
   "source": [
    "Na wykresach autokorelacji można zauważyć, że nie ma wyraźnych wzorców ani regularności w zależnościach między wartościami. Wszystkie istotne wartości autokorelacji mieszczą się w przedziale ufności, bądź są bliskie granicy. Oznacza to, że nie ma silnych zależności między wartościami w szeregu czasowym, co sugeruje brak autokorelacji."
   ]
  },
  {
   "cell_type": "markdown",
   "metadata": {},
   "source": [
    "## Regresja liniowa dla ITS i Chlorofilu  "
   ]
  },
  {
   "cell_type": "markdown",
   "metadata": {},
   "source": [
    "### Histogramy z wyróżnionymi danymi testowymi i treningowymi za pomocą kolorów"
   ]
  },
  {
   "cell_type": "code",
   "execution_count": 29,
   "metadata": {
    "vscode": {
     "languageId": "r"
    }
   },
   "outputs": [],
   "source": [
    "#| code-fold: false\n",
    "# podział danych na zbiór treningowy i testowy\n",
    "set.seed(123)\n",
    "indeksy <- sample(1:nrow(dane), 0.7 * nrow(dane))\n",
    "dane_treningowe <- dane[indeksy, ]\n",
    "dane_testowe <- dane[-indeksy, ]"
   ]
  },
  {
   "cell_type": "code",
   "execution_count": 30,
   "metadata": {
    "vscode": {
     "languageId": "r"
    }
   },
   "outputs": [
    {
     "data": {
      "image/png": "[encoded data removed]",
      "text/plain": [
       "plot without title"
      ]
     },
     "metadata": {
      "image/png": {
       "height": 420,
       "width": 420
      }
     },
     "output_type": "display_data"
    }
   ],
   "source": [
    "# histogramy z wyróżnionymi zbiorami treningowymi i testowymi za pomocą kolorów\n",
    "hist_data <- dane %>% mutate(zbior = ifelse(row_number() %in% indeksy, \"Treningowy\", \"Testowy\")) %>% \n",
    "    gather(key = \"zmienna\", value = \"wartosc\", all_of(kolumny_do_analizy))\n",
    "\n",
    "ggplot(hist_data, aes(x = wartosc, fill = zbior)) +\n",
    "    geom_histogram(bins = 7, alpha = 0.5) +\n",
    "    facet_wrap(~ zmienna, scales = \"free\") +\n",
    "    labs(title = \"Histogramy z wyróżnionymi zbiorami treningowymi i testowymi\",\n",
    "         x = \"Wartość\",\n",
    "         y = \"Liczba obserwacji\") +\n",
    "    theme_minimal()"
   ]
  },
  {
   "cell_type": "markdown",
   "metadata": {},
   "source": [
    "Na histogramach można zauważyć, że dane testowe i treningowe są w miarę równomiernie rozłożone wśród poszczególnych zmiennych. "
   ]
  },
  {
   "cell_type": "markdown",
   "metadata": {},
   "source": [
    "### Model regresji liniowej dla ITS\n",
    "\n",
    "Poniżej przedstawiono kod do stworzenia modelu regresji liniowej dla zmiennej `ITS` w R. "
   ]
  },
  {
   "cell_type": "code",
   "execution_count": 31,
   "metadata": {
    "vscode": {
     "languageId": "r"
    }
   },
   "outputs": [],
   "source": [
    "#| code-fold: false\n",
    "# utworzenie modelu regresji liniowej dla ITS\n",
    "model_ITS <- lm(ITS ~ ., select(dane_treningowe, all_of(kolumny_do_analizy)))"
   ]
  },
  {
   "cell_type": "markdown",
   "metadata": {},
   "source": [
    "#### Istotność współczynników"
   ]
  },
  {
   "cell_type": "code",
   "execution_count": 32,
   "metadata": {
    "vscode": {
     "languageId": "r"
    }
   },
   "outputs": [
    {
     "name": "stderr",
     "output_type": "stream",
     "text": [
      "Warning message in summary.lm(model_ITS):\n",
      "\"idealne dopasowanie: podsumowanie może nie być wiarygodne\"\n"
     ]
    },
    {
     "data": {
      "text/html": [
       "<table class=\"dataframe\">\n",
       "<caption>A matrix: 8 × 4 of type dbl</caption>\n",
       "<thead>\n",
       "\t<tr><th></th><th scope=col>Estimate</th><th scope=col>Std. Error</th><th scope=col>t value</th><th scope=col>Pr(&gt;|t|)</th></tr>\n",
       "</thead>\n",
       "<tbody>\n",
       "\t<tr><th scope=row>(Intercept)</th><td> 1.300000e+00</td><td>2.437632e-15</td><td> 5.333044e+14</td><td>0.0000000</td></tr>\n",
       "\t<tr><th scope=row>chla</th><td> 7.766239e-20</td><td>5.038904e-18</td><td> 1.541256e-02</td><td>0.9878164</td></tr>\n",
       "\t<tr><th scope=row>temp</th><td> 3.457603e-17</td><td>2.992591e-17</td><td> 1.155388e+00</td><td>0.2580544</td></tr>\n",
       "\t<tr><th scope=row>bar</th><td>-1.640750e-17</td><td>9.703670e-18</td><td>-1.690855e+00</td><td>0.1023783</td></tr>\n",
       "\t<tr><th scope=row>nas</th><td>-1.300000e-02</td><td>1.841626e-17</td><td>-7.058978e+14</td><td>0.0000000</td></tr>\n",
       "\t<tr><th scope=row>przew</th><td> 2.098917e-18</td><td>2.268764e-18</td><td> 9.251370e-01</td><td>0.3630900</td></tr>\n",
       "\t<tr><th scope=row>ph</th><td> 1.000000e+00</td><td>4.769034e-16</td><td> 2.096861e+15</td><td>0.0000000</td></tr>\n",
       "\t<tr><th scope=row>namon</th><td> 1.417460e-15</td><td>1.559877e-15</td><td> 9.086996e-01</td><td>0.3715489</td></tr>\n",
       "</tbody>\n",
       "</table>\n"
      ],
      "text/latex": [
       "A matrix: 8 × 4 of type dbl\n",
       "\\begin{tabular}{r|llll}\n",
       "  & Estimate & Std. Error & t value & Pr(>\\textbar{}t\\textbar{})\\\\\n",
       "\\hline\n",
       "\t(Intercept) &  1.300000e+00 & 2.437632e-15 &  5.333044e+14 & 0.0000000\\\\\n",
       "\tchla &  7.766239e-20 & 5.038904e-18 &  1.541256e-02 & 0.9878164\\\\\n",
       "\ttemp &  3.457603e-17 & 2.992591e-17 &  1.155388e+00 & 0.2580544\\\\\n",
       "\tbar & -1.640750e-17 & 9.703670e-18 & -1.690855e+00 & 0.1023783\\\\\n",
       "\tnas & -1.300000e-02 & 1.841626e-17 & -7.058978e+14 & 0.0000000\\\\\n",
       "\tprzew &  2.098917e-18 & 2.268764e-18 &  9.251370e-01 & 0.3630900\\\\\n",
       "\tph &  1.000000e+00 & 4.769034e-16 &  2.096861e+15 & 0.0000000\\\\\n",
       "\tnamon &  1.417460e-15 & 1.559877e-15 &  9.086996e-01 & 0.3715489\\\\\n",
       "\\end{tabular}\n"
      ],
      "text/markdown": [
       "\n",
       "A matrix: 8 × 4 of type dbl\n",
       "\n",
       "| <!--/--> | Estimate | Std. Error | t value | Pr(&gt;|t|) |\n",
       "|---|---|---|---|---|\n",
       "| (Intercept) |  1.300000e+00 | 2.437632e-15 |  5.333044e+14 | 0.0000000 |\n",
       "| chla |  7.766239e-20 | 5.038904e-18 |  1.541256e-02 | 0.9878164 |\n",
       "| temp |  3.457603e-17 | 2.992591e-17 |  1.155388e+00 | 0.2580544 |\n",
       "| bar | -1.640750e-17 | 9.703670e-18 | -1.690855e+00 | 0.1023783 |\n",
       "| nas | -1.300000e-02 | 1.841626e-17 | -7.058978e+14 | 0.0000000 |\n",
       "| przew |  2.098917e-18 | 2.268764e-18 |  9.251370e-01 | 0.3630900 |\n",
       "| ph |  1.000000e+00 | 4.769034e-16 |  2.096861e+15 | 0.0000000 |\n",
       "| namon |  1.417460e-15 | 1.559877e-15 |  9.086996e-01 | 0.3715489 |\n",
       "\n"
      ],
      "text/plain": [
       "            Estimate      Std. Error   t value       Pr(>|t|) \n",
       "(Intercept)  1.300000e+00 2.437632e-15  5.333044e+14 0.0000000\n",
       "chla         7.766239e-20 5.038904e-18  1.541256e-02 0.9878164\n",
       "temp         3.457603e-17 2.992591e-17  1.155388e+00 0.2580544\n",
       "bar         -1.640750e-17 9.703670e-18 -1.690855e+00 0.1023783\n",
       "nas         -1.300000e-02 1.841626e-17 -7.058978e+14 0.0000000\n",
       "przew        2.098917e-18 2.268764e-18  9.251370e-01 0.3630900\n",
       "ph           1.000000e+00 4.769034e-16  2.096861e+15 0.0000000\n",
       "namon        1.417460e-15 1.559877e-15  9.086996e-01 0.3715489"
      ]
     },
     "metadata": {},
     "output_type": "display_data"
    }
   ],
   "source": [
    "#| code-fold: false\n",
    "# istotność współczynników\n",
    "summary(model_ITS)$coefficients"
   ]
  },
  {
   "cell_type": "markdown",
   "metadata": {},
   "source": [
    "Wyniki regresji liniowej dla zmiennej zależnej `ITS` wskazują na następujące zależności między zmiennymi niezależnymi a zmienną zależną:\n",
    "\n",
    "1. **Zmienne istotne statystycznie**:\n",
    "   - `nas` (p-value ≈ 0.00): Jest silnie istotnym predyktorem i ma ujemny wpływ na zmienną `ITS`.\n",
    "   - `ph` (p-value ≈ 0.00): Jest również bardzo istotnym predyktorem, z dodatnim wpływem na `ITS`.\n",
    "\n",
    "2. **Zmienne nieistotne statystycznie**:\n",
    "   - `chla`, `temp`, `bar`, `przew`, i `namon` mają wysokie wartości p-value (> 0.05), co sugeruje, że nie są istotnymi predyktorami w modelu dla `ITS`.\n",
    "\n",
    "3. **Intercept (wyraz wolny)**: Intercept wynosi około 1.3 i jest istotny statystycznie (p-value ≈ 0.00).\n",
    "\n",
    "Podsumowując, model pokazuje, że `ph` i `nas` mają największy wpływ na zmienną `ITS`, podczas gdy pozostałe zmienne nie mają istotnego znaczenia statystycznego w tym modelu."
   ]
  },
  {
   "cell_type": "markdown",
   "metadata": {},
   "source": [
    "#### Normalność reszt"
   ]
  },
  {
   "cell_type": "code",
   "execution_count": 33,
   "metadata": {
    "vscode": {
     "languageId": "r"
    }
   },
   "outputs": [
    {
     "data": {
      "image/png": "[encoded data removed]",
      "text/plain": [
       "plot without title"
      ]
     },
     "metadata": {
      "image/png": {
       "height": 420,
       "width": 420
      }
     },
     "output_type": "display_data"
    }
   ],
   "source": [
    "# dane z resztami i wartościami dopasowanymi\n",
    "residuals <- dane_treningowe %>% \n",
    "    mutate(reszty = residuals(model_ITS)) %>%\n",
    "    mutate(wpasowanie = fitted(model_ITS))\n",
    "\n",
    "# histogram reszt\n",
    "ggplot(residuals, aes(x = reszty)) +\n",
    "    geom_histogram(bins = 10) +\n",
    "    labs(title = \"Histogram reszt modelu ITS\",\n",
    "         x = \"Reszty\",\n",
    "         y = \"Liczba obserwacji\") +\n",
    "    theme_minimal()"
   ]
  },
  {
   "cell_type": "markdown",
   "metadata": {},
   "source": [
    "Ciężko jest stwierdzić na podstawie wykresu rozkładu reszt czy spełnione są założenia o normalności. Wartości reszt wydają się być rozłożone w sposób losowy, jednak nie można jednoznacznie stwierdzić, czy spełnione są założenia o normalności."
   ]
  },
  {
   "cell_type": "code",
   "execution_count": 34,
   "metadata": {
    "vscode": {
     "languageId": "r"
    }
   },
   "outputs": [
    {
     "data": {
      "image/png": "[encoded data removed]",
      "text/plain": [
       "plot without title"
      ]
     },
     "metadata": {
      "image/png": {
       "height": 420,
       "width": 420
      }
     },
     "output_type": "display_data"
    }
   ],
   "source": [
    "# wykres QQ dla reszt\n",
    "residuals %>%\n",
    "    ggplot(aes(sample = reszty)) +\n",
    "    stat_qq() +\n",
    "    stat_qq_line() +\n",
    "    labs(title = \"QQ plot dla reszt modelu ITS\",\n",
    "         x = \"Teoretyczne kwantyle\",\n",
    "         y = \"Empiryczne kwantyle\") +\n",
    "    theme_minimal()\n"
   ]
  },
  {
   "cell_type": "markdown",
   "metadata": {},
   "source": [
    "QQ plot dla reszt modelu ITS wskazuje, że reszty są bliskie rozkładowi normalnemu, ponieważ większość punktów układa się wzdłuż linii prostej. Niewielkie odchylenia od tej linii można zaobserwować na krańcach rozkładu, co może sugerować drobne odstępstwa od normalności dla wartości skrajnych. Ogólnie jednak rozkład reszt wydaje się być zgodny z założeniami modelu."
   ]
  },
  {
   "cell_type": "code",
   "execution_count": 35,
   "metadata": {
    "vscode": {
     "languageId": "r"
    }
   },
   "outputs": [
    {
     "data": {
      "text/plain": [
       "\n",
       "\tJarque Bera Test\n",
       "\n",
       "data:  residuals$reszty\n",
       "X-squared = 2.0034, df = 2, p-value = 0.3673\n"
      ]
     },
     "metadata": {},
     "output_type": "display_data"
    }
   ],
   "source": [
    "#| code-fold: false\n",
    "# test Jarque-Bera dla reszt\n",
    "jarque_bera_test <- jarque.bera.test(residuals$reszty)\n",
    "jarque_bera_test"
   ]
  },
  {
   "cell_type": "markdown",
   "metadata": {},
   "source": [
    "Na podstawie wyniku testu Jarque Bera można stwierdzić: \n",
    "\n",
    "- Ponieważ wartość p (p-value = 0.3673) jest większa niż typowy poziom istotności (np. 0.05), nie mamy podstaw do odrzucenia hipotezy zerowej.\n",
    "- Hipoteza zerowa (H₀): Reszty mają rozkład normalny.\n",
    "- W tym przypadku można przyjąć, że reszty są zgodne z rozkładem normalnym."
   ]
  },
  {
   "cell_type": "markdown",
   "metadata": {},
   "source": [
    "#### Homoskedastyczność"
   ]
  },
  {
   "cell_type": "code",
   "execution_count": 36,
   "metadata": {
    "vscode": {
     "languageId": "r"
    }
   },
   "outputs": [
    {
     "data": {
      "image/png": "[encoded data removed]",
      "text/plain": [
       "plot without title"
      ]
     },
     "metadata": {
      "image/png": {
       "height": 420,
       "width": 420
      }
     },
     "output_type": "display_data"
    }
   ],
   "source": [
    "# wykres reszt vs. wartości dopasowane (homoskedastyczność)\n",
    "residuals %>%\n",
    "    ggplot(aes(x = wpasowanie, y = reszty)) +\n",
    "    geom_point() +\n",
    "    geom_hline(yintercept = 0, linetype = \"dashed\", color = \"red\") +\n",
    "    labs(title = \"Wykres reszt vs. wartości dopasowane\",\n",
    "         x = \"Wartości dopasowane\",\n",
    "         y = \"Reszty\") +\n",
    "    theme_minimal()"
   ]
  },
  {
   "cell_type": "markdown",
   "metadata": {},
   "source": [
    "Na wykresie można zaobserwować, że reszty są losowo rozrzucone wokół osi y = 0, co sugeruje, że wariancja reszt jest stała, więc założenie o homoskedastyczności jest spełnione."
   ]
  },
  {
   "cell_type": "markdown",
   "metadata": {},
   "source": [
    "#### Autokorelacja reszt"
   ]
  },
  {
   "cell_type": "code",
   "execution_count": 37,
   "metadata": {
    "vscode": {
     "languageId": "r"
    }
   },
   "outputs": [
    {
     "data": {
      "image/png": "[encoded data removed]",
      "text/plain": [
       "plot without title"
      ]
     },
     "metadata": {
      "image/png": {
       "height": 420,
       "width": 420
      }
     },
     "output_type": "display_data"
    }
   ],
   "source": [
    "# autokorelacja reszt\n",
    "plot_acf_residuals <- function(residuals_vector, title, lag = 9) {\n",
    "     acf_res <- acf(residuals_vector, lag.max = lag, plot = FALSE)\n",
    "     \n",
    "     afc_res_tibble <- tibble(\n",
    "          lag = acf_res$lag,\n",
    "          acf = acf_res$acf\n",
    "     )\n",
    "     \n",
    "     significance_level <- 1.96 / sqrt(length(residuals_vector))\n",
    "     \n",
    "     ggplot(afc_res_tibble, aes(x = lag, y = acf)) +\n",
    "          geom_bar(stat = \"identity\", width = 0.3) +\n",
    "          geom_hline(yintercept = c(-significance_level, significance_level), linetype = \"dashed\", color = \"red\") +\n",
    "          scale_x_continuous(breaks = seq(0, 9, by = 3)) +\n",
    "          labs(title = title,\n",
    "                x = \"Lag\",\n",
    "                y = \"ACF\") +\n",
    "          theme_minimal()\n",
    "}\n",
    "\n",
    "plot_acf_residuals(residuals$reszty, \"Autokorelacja reszt modelu ITS\")"
   ]
  },
  {
   "cell_type": "markdown",
   "metadata": {},
   "source": [
    "Na wykresie autokorelacji reszt można zauważyć, że wszystkie wartości autokorelacji mieszczą się w przedziale ufności, co sugeruje brak autokorelacji. Oznacza to, że reszty nie są ze sobą skorelowane i nie występuje zależność między nimi."
   ]
  },
  {
   "cell_type": "markdown",
   "metadata": {},
   "source": [
    "#### Wpływ wartości odstających"
   ]
  },
  {
   "cell_type": "code",
   "execution_count": 38,
   "metadata": {
    "vscode": {
     "languageId": "r"
    }
   },
   "outputs": [
    {
     "data": {
      "image/png": "[encoded data removed]",
      "text/plain": [
       "plot without title"
      ]
     },
     "metadata": {
      "image/png": {
       "height": 420,
       "width": 420
      }
     },
     "output_type": "display_data"
    }
   ],
   "source": [
    "# Obliczanie odległości Cooka\n",
    "cooks_distance <- cooks.distance(model_ITS)\n",
    "\n",
    "# Wykres odległości Cooka\n",
    "plot(cooks_distance, pch = 19, frame = FALSE, xlab = \"Numer obserwacji\", ylab = \"Odległość Cooka\")\n",
    "abline(h = 4 / nrow(dane_treningowe), col = \"red\", lty = 2)"
   ]
  },
  {
   "cell_type": "markdown",
   "metadata": {},
   "source": [
    "Na wykresie możemy zauważyć, że raptem 6 obserwacji wykracza poza zakres wartości reszt, z czego 2 wartości są znacząco odstające. \n",
    "Wartości te mogą wpływać na jakość modelu."
   ]
  },
  {
   "cell_type": "markdown",
   "metadata": {},
   "source": [
    "#### Zdolność predykcyjna modelu"
   ]
  },
  {
   "cell_type": "code",
   "execution_count": 39,
   "metadata": {
    "vscode": {
     "languageId": "r"
    }
   },
   "outputs": [
    {
     "name": "stderr",
     "output_type": "stream",
     "text": [
      "Warning message:\n",
      "\"pakiet 'hydroGOF' został zbudowany w wersji R 4.3.3\"\n"
     ]
    },
    {
     "name": "stderr",
     "output_type": "stream",
     "text": [
      "Ładowanie wymaganego pakietu: zoo\n",
      "\n",
      "Warning message:\n",
      "\"pakiet 'zoo' został zbudowany w wersji R 4.3.3\"\n",
      "\n",
      "Dołączanie pakietu: 'zoo'\n",
      "\n",
      "\n",
      "Następujące obiekty zostały zakryte z 'package:base':\n",
      "\n",
      "    as.Date, as.Date.numeric\n",
      "\n",
      "\n"
     ]
    },
    {
     "data": {
      "text/html": [
       "<table class=\"dataframe\">\n",
       "<caption>A tibble: 1 × 7</caption>\n",
       "<thead>\n",
       "\t<tr><th scope=col>RMSE</th><th scope=col>MAE</th><th scope=col>MSE</th><th scope=col>R2</th><th scope=col>Korelacja.Pearsona</th><th scope=col>Korelacja.Spearmana</th><th scope=col>Korelacja.Kendall</th></tr>\n",
       "\t<tr><th scope=col>&lt;dbl&gt;</th><th scope=col>&lt;dbl&gt;</th><th scope=col>&lt;dbl&gt;</th><th scope=col>&lt;dbl&gt;</th><th scope=col>&lt;dbl&gt;</th><th scope=col>&lt;dbl&gt;</th><th scope=col>&lt;dbl&gt;</th></tr>\n",
       "</thead>\n",
       "<tbody>\n",
       "\t<tr><td>1.404333e-15</td><td>1.221245e-15</td><td>1.972152e-30</td><td>1</td><td>1</td><td>1</td><td>1</td></tr>\n",
       "</tbody>\n",
       "</table>\n"
      ],
      "text/latex": [
       "A tibble: 1 × 7\n",
       "\\begin{tabular}{lllllll}\n",
       " RMSE & MAE & MSE & R2 & Korelacja.Pearsona & Korelacja.Spearmana & Korelacja.Kendall\\\\\n",
       " <dbl> & <dbl> & <dbl> & <dbl> & <dbl> & <dbl> & <dbl>\\\\\n",
       "\\hline\n",
       "\t 1.404333e-15 & 1.221245e-15 & 1.972152e-30 & 1 & 1 & 1 & 1\\\\\n",
       "\\end{tabular}\n"
      ],
      "text/markdown": [
       "\n",
       "A tibble: 1 × 7\n",
       "\n",
       "| RMSE &lt;dbl&gt; | MAE &lt;dbl&gt; | MSE &lt;dbl&gt; | R2 &lt;dbl&gt; | Korelacja.Pearsona &lt;dbl&gt; | Korelacja.Spearmana &lt;dbl&gt; | Korelacja.Kendall &lt;dbl&gt; |\n",
       "|---|---|---|---|---|---|---|\n",
       "| 1.404333e-15 | 1.221245e-15 | 1.972152e-30 | 1 | 1 | 1 | 1 |\n",
       "\n"
      ],
      "text/plain": [
       "  RMSE         MAE          MSE          R2 Korelacja.Pearsona\n",
       "1 1.404333e-15 1.221245e-15 1.972152e-30 1  1                 \n",
       "  Korelacja.Spearmana Korelacja.Kendall\n",
       "1 1                   1                "
      ]
     },
     "metadata": {},
     "output_type": "display_data"
    },
    {
     "name": "stderr",
     "output_type": "stream",
     "text": [
      "[ Note: You did not provide dates, so only a numeric index will be used in the time axis ]\n",
      "\n"
     ]
    },
    {
     "data": {
      "image/png": "[encoded data removed]",
      "text/plain": [
       "Plot with title \"Observations vs Simulations\""
      ]
     },
     "metadata": {
      "image/png": {
       "height": 420,
       "width": 420
      }
     },
     "output_type": "display_data"
    }
   ],
   "source": [
    "library(hydroGOF)\n",
    "\n",
    "# porównanie modelu ITS z danymi testowymi\n",
    "ITS_predicted <- predict(model_ITS, dane_testowe)\n",
    "ITS_observed <- dane_testowe$ITS\n",
    "\n",
    "# tabela z wynikami parametrów modelu\n",
    "model_ITS_results <- data.frame(\n",
    "    RMSE = rmse(ITS_predicted, ITS_observed),\n",
    "    MAE = mae(ITS_predicted, ITS_observed),\n",
    "    MSE = mse(ITS_predicted, ITS_observed),\n",
    "    R2 = R2(ITS_predicted, ITS_observed),\n",
    "    \"Korelacja Pearsona\" = cor(ITS_predicted, ITS_observed),\n",
    "    \"Korelacja Spearmana\" = cor(ITS_predicted, ITS_observed, method = \"spearman\"),\n",
    "    \"Korelacja Kendall\" = cor(ITS_predicted, ITS_observed, method = \"kendall\")\n",
    ")\n",
    "\n",
    "model_ITS_results <- tibble(model_ITS_results)\n",
    "model_ITS_results\n",
    "\n",
    "# hydroGOF\n",
    "ggof(ITS_predicted, ITS_observed,\n",
    "    gofs = c(\"NSE\", \"rNSE\", \"ME\", \"MSE\",  \"d\", \"RMSE\", \"PBIAS\"),\n",
    "    FUN = mean)\n"
   ]
  },
  {
   "cell_type": "markdown",
   "metadata": {},
   "source": [
    "Wyniki oceny zdolności predykcyjnej modelu regresji liniowej dla zmiennej ITS wskazują na doskonałe dopasowanie do danych testowych:\n",
    "\n",
    "- RMSE (Root Mean Square Error): Bardzo niska wartość (~1.4 × 10⁻¹⁵) świadczy o niemal zerowych błędach predykcji w odniesieniu do danych obserwowanych.\n",
    "- MAE (Mean Absolute Error): Niska wartość (~1.2 × 10⁻¹⁵) wskazuje na niewielkie średnie różnice między wartościami przewidywanymi a obserwowanymi.\n",
    "- MSE (Mean Squared Error): Również bliskie zeru (~1.97 × 10⁻³⁰), co potwierdza minimalny błąd kwadratowy.\n",
    "- R²: Wartość równoważna 1 oznacza, że model w pełni wyjaśnia zmienność zmiennej ITS.\n",
    "- Korelacje (Pearsona, Spearmana, Kendalla): Wszystkie korelacje mają wartość równą 1, co wskazuje na idealną zgodność między przewidywanymi a obserwowanymi wartościami."
   ]
  },
  {
   "cell_type": "markdown",
   "metadata": {},
   "source": [
    "#### Wnioski dotyczące modelu regresji liniowej dla ITS\n",
    "\n",
    "Doskonały oceny parametrów predykcyjnych oraz idealne wyniki testów na resztach regresji liniowej dla zmiennej ITS nie mogą dziwić, biorąc pod uwagę fakt że `ITS` zostało skonstruowane jako liniowa kombinacja zmiennych `ph` i `nas`. W związku z tym, oczekiwane jest doskonałe dopasowanie modelu do danych oraz brak istotnych odchyleń w resztach."
   ]
  },
  {
   "cell_type": "markdown",
   "metadata": {},
   "source": [
    "### Model regresji liniowej dla Chlorofilu\n",
    "\n",
    "Poniżej przedstawiono kod do stworzenia modelu regresji liniowej dla zmiennej `chla` w R."
   ]
  },
  {
   "cell_type": "code",
   "execution_count": 40,
   "metadata": {
    "vscode": {
     "languageId": "r"
    }
   },
   "outputs": [],
   "source": [
    "#| code-fold: false\n",
    "# utworzenie modelu regresji liniowej dla Chlorofilu\n",
    "chla_model <- lm(chla ~ ., select(dane_treningowe, all_of(kolumny_do_analizy)))"
   ]
  },
  {
   "cell_type": "markdown",
   "metadata": {},
   "source": [
    "#### Istotność współczynników"
   ]
  },
  {
   "cell_type": "code",
   "execution_count": 41,
   "metadata": {
    "vscode": {
     "languageId": "r"
    }
   },
   "outputs": [
    {
     "data": {
      "text/html": [
       "<table class=\"dataframe\">\n",
       "<caption>A matrix: 7 × 4 of type dbl</caption>\n",
       "<thead>\n",
       "\t<tr><th></th><th scope=col>Estimate</th><th scope=col>Std. Error</th><th scope=col>t value</th><th scope=col>Pr(&gt;|t|)</th></tr>\n",
       "</thead>\n",
       "<tbody>\n",
       "\t<tr><th scope=row>(Intercept)</th><td>-179.22574621</td><td>84.91679415</td><td>-2.1106042</td><td>0.04386744</td></tr>\n",
       "\t<tr><th scope=row>temp</th><td>  -0.60146391</td><td> 1.11658969</td><td>-0.5386615</td><td>0.59437750</td></tr>\n",
       "\t<tr><th scope=row>bar</th><td>  -0.08502665</td><td> 0.36357764</td><td>-0.2338611</td><td>0.81679431</td></tr>\n",
       "\t<tr><th scope=row>nas</th><td>   0.11615793</td><td> 0.69034620</td><td> 0.1682604</td><td>0.86758795</td></tr>\n",
       "\t<tr><th scope=row>przew</th><td>  -0.04457973</td><td> 0.08467104</td><td>-0.5265050</td><td>0.60268365</td></tr>\n",
       "\t<tr><th scope=row>ph</th><td>  24.46748990</td><td>17.27806070</td><td> 1.4161016</td><td>0.16777469</td></tr>\n",
       "\t<tr><th scope=row>namon</th><td>  81.01203635</td><td>56.46384424</td><td> 1.4347595</td><td>0.16243172</td></tr>\n",
       "</tbody>\n",
       "</table>\n"
      ],
      "text/latex": [
       "A matrix: 7 × 4 of type dbl\n",
       "\\begin{tabular}{r|llll}\n",
       "  & Estimate & Std. Error & t value & Pr(>\\textbar{}t\\textbar{})\\\\\n",
       "\\hline\n",
       "\t(Intercept) & -179.22574621 & 84.91679415 & -2.1106042 & 0.04386744\\\\\n",
       "\ttemp &   -0.60146391 &  1.11658969 & -0.5386615 & 0.59437750\\\\\n",
       "\tbar &   -0.08502665 &  0.36357764 & -0.2338611 & 0.81679431\\\\\n",
       "\tnas &    0.11615793 &  0.69034620 &  0.1682604 & 0.86758795\\\\\n",
       "\tprzew &   -0.04457973 &  0.08467104 & -0.5265050 & 0.60268365\\\\\n",
       "\tph &   24.46748990 & 17.27806070 &  1.4161016 & 0.16777469\\\\\n",
       "\tnamon &   81.01203635 & 56.46384424 &  1.4347595 & 0.16243172\\\\\n",
       "\\end{tabular}\n"
      ],
      "text/markdown": [
       "\n",
       "A matrix: 7 × 4 of type dbl\n",
       "\n",
       "| <!--/--> | Estimate | Std. Error | t value | Pr(&gt;|t|) |\n",
       "|---|---|---|---|---|\n",
       "| (Intercept) | -179.22574621 | 84.91679415 | -2.1106042 | 0.04386744 |\n",
       "| temp |   -0.60146391 |  1.11658969 | -0.5386615 | 0.59437750 |\n",
       "| bar |   -0.08502665 |  0.36357764 | -0.2338611 | 0.81679431 |\n",
       "| nas |    0.11615793 |  0.69034620 |  0.1682604 | 0.86758795 |\n",
       "| przew |   -0.04457973 |  0.08467104 | -0.5265050 | 0.60268365 |\n",
       "| ph |   24.46748990 | 17.27806070 |  1.4161016 | 0.16777469 |\n",
       "| namon |   81.01203635 | 56.46384424 |  1.4347595 | 0.16243172 |\n",
       "\n"
      ],
      "text/plain": [
       "            Estimate      Std. Error  t value    Pr(>|t|)  \n",
       "(Intercept) -179.22574621 84.91679415 -2.1106042 0.04386744\n",
       "temp          -0.60146391  1.11658969 -0.5386615 0.59437750\n",
       "bar           -0.08502665  0.36357764 -0.2338611 0.81679431\n",
       "nas            0.11615793  0.69034620  0.1682604 0.86758795\n",
       "przew         -0.04457973  0.08467104 -0.5265050 0.60268365\n",
       "ph            24.46748990 17.27806070  1.4161016 0.16777469\n",
       "namon         81.01203635 56.46384424  1.4347595 0.16243172"
      ]
     },
     "metadata": {},
     "output_type": "display_data"
    }
   ],
   "source": [
    "#| code-fold: false\n",
    "# istotność współczynników\n",
    "summary(chla_model)$coefficients"
   ]
  },
  {
   "cell_type": "markdown",
   "metadata": {},
   "source": [
    "Model nie identyfikuje istotnych zależności między chlorofilem a uwzględnionymi zmiennymi. Może to sugerować, że dane są niewystarczające do wykrycia takich relacji, zmienne są nieoptymalnie dobrane, lub wpływ na chlorofil pochodzi od innych, nieanalizowanych czynników."
   ]
  },
  {
   "cell_type": "markdown",
   "metadata": {},
   "source": [
    "#### Normalność reszt"
   ]
  },
  {
   "cell_type": "code",
   "execution_count": 42,
   "metadata": {
    "vscode": {
     "languageId": "r"
    }
   },
   "outputs": [
    {
     "data": {
      "image/png": "[encoded data removed]",
      "text/plain": [
       "plot without title"
      ]
     },
     "metadata": {
      "image/png": {
       "height": 420,
       "width": 420
      }
     },
     "output_type": "display_data"
    }
   ],
   "source": [
    "# dane z resztami i wartościami dopasowanymi\n",
    "residuals_chla <- dane_treningowe %>% \n",
    "    mutate(reszty = residuals(chla_model)) %>%\n",
    "    mutate(wpasowanie = fitted(chla_model))\n",
    "\n",
    "# histogram reszt\n",
    "ggplot(residuals_chla, aes(x = reszty)) +\n",
    "    geom_histogram(bins = 10) +\n",
    "    labs(title = \"Histogram reszt modelu Chl-a\",\n",
    "         x = \"Reszty\",\n",
    "         y = \"Liczba obserwacji\") +\n",
    "    theme_minimal()"
   ]
  },
  {
   "cell_type": "markdown",
   "metadata": {},
   "source": [
    "Na podstawie wykresu rozkładu reszt można stwierdzić, że rozkład jest normalny, jednak należy to potwierdzić za pomocą testów statystycznych."
   ]
  },
  {
   "cell_type": "code",
   "execution_count": 43,
   "metadata": {
    "vscode": {
     "languageId": "r"
    }
   },
   "outputs": [
    {
     "data": {
      "image/png": "[encoded data removed]",
      "text/plain": [
       "plot without title"
      ]
     },
     "metadata": {
      "image/png": {
       "height": 420,
       "width": 420
      }
     },
     "output_type": "display_data"
    }
   ],
   "source": [
    "# wykres QQ dla reszt\n",
    "residuals_chla %>%\n",
    "    ggplot(aes(sample = reszty)) +\n",
    "    stat_qq() +\n",
    "    stat_qq_line() +\n",
    "    labs(title = \"QQ plot dla reszt modelu Chl-a\",\n",
    "         x = \"Teoretyczne kwantyle\",\n",
    "         y = \"Empiryczne kwantyle\") +\n",
    "    theme_minimal()"
   ]
  },
  {
   "cell_type": "markdown",
   "metadata": {},
   "source": [
    "QQ plot dla reszt modelu Chlorofilu wskazuje, że reszty są bliskie rozkładowi normalnemu, z wyjątkiem dwóch punktów na końcu rozkładu. Wartości te mogą sugerować obecność skrajnych obserwacji, które mogą wpłynąć na wyniki analizy."
   ]
  },
  {
   "cell_type": "code",
   "execution_count": 44,
   "metadata": {
    "vscode": {
     "languageId": "r"
    }
   },
   "outputs": [
    {
     "data": {
      "text/plain": [
       "\n",
       "\tJarque Bera Test\n",
       "\n",
       "data:  residuals_chla$reszty\n",
       "X-squared = 6.7808, df = 2, p-value = 0.0337\n"
      ]
     },
     "metadata": {},
     "output_type": "display_data"
    }
   ],
   "source": [
    "#| code-fold: false\n",
    "# test Jarque-Bera dla reszt\n",
    "jarque_bera_test_chla <- jarque.bera.test(residuals_chla$reszty)\n",
    "jarque_bera_test_chla"
   ]
  },
  {
   "cell_type": "markdown",
   "metadata": {},
   "source": [
    "Na podstawie wyniku testu Jarque Bera można stwierdzić:\n",
    "\n",
    "- Ponieważ wartość p (p-value = 0.0337) jest mniejsza niż typowy poziom istotności (np. 0.05), mamy podstawy do odrzucenia hipotezy zerowej.\n",
    "- Hipoteza zerowa (H₀): Reszty mają rozkład normalny.\n",
    "- W tym przypadku nie można przyjąć, że reszty są zgodne z rozkładem normalnym."
   ]
  },
  {
   "cell_type": "markdown",
   "metadata": {},
   "source": [
    "#### Homoskedastyczność"
   ]
  },
  {
   "cell_type": "code",
   "execution_count": 45,
   "metadata": {
    "vscode": {
     "languageId": "r"
    }
   },
   "outputs": [
    {
     "data": {
      "image/png": "[encoded data removed]",
      "text/plain": [
       "plot without title"
      ]
     },
     "metadata": {
      "image/png": {
       "height": 420,
       "width": 420
      }
     },
     "output_type": "display_data"
    }
   ],
   "source": [
    "# wykres reszt vs. wartości dopasowane (homoskedastyczność)\n",
    "residuals_chla %>%\n",
    "    ggplot(aes(x = wpasowanie, y = reszty)) +\n",
    "    geom_point() +\n",
    "    geom_hline(yintercept = 0, linetype = \"dashed\", color = \"red\") +\n",
    "    labs(title = \"Wykres reszt vs. wartości dopasowane\",\n",
    "         x = \"Wartości dopasowane\",\n",
    "         y = \"Reszty\") +\n",
    "    theme_minimal()"
   ]
  },
  {
   "cell_type": "markdown",
   "metadata": {},
   "source": [
    "Na wykresie można zaobserwować, że reszty na początku mają mniejszy rozrzut, a następnie zwiększa się ich wariancja. Oznacza to, że wariancja reszt nie jest stała, co sugeruje brak homoskedastyczności."
   ]
  },
  {
   "cell_type": "markdown",
   "metadata": {},
   "source": [
    "#### Autokorelacja reszt"
   ]
  },
  {
   "cell_type": "code",
   "execution_count": 46,
   "metadata": {
    "vscode": {
     "languageId": "r"
    }
   },
   "outputs": [
    {
     "data": {
      "image/png": "[encoded data removed]",
      "text/plain": [
       "plot without title"
      ]
     },
     "metadata": {
      "image/png": {
       "height": 420,
       "width": 420
      }
     },
     "output_type": "display_data"
    }
   ],
   "source": [
    "# autokorelacja reszt\n",
    "plot_acf_residuals(residuals_chla$reszty, \"Autokorelacja reszt modelu Chl-a\")"
   ]
  },
  {
   "cell_type": "markdown",
   "metadata": {},
   "source": [
    "Na wykresie autokorelacji reszt można zauważyć, że wszystkie wartości autokorelacji mieszczą się w przedziale ufności, co sugeruje brak autokorelacji. Oznacza to, że reszty nie są ze sobą skorelowane i nie występuje zależność między nimi."
   ]
  },
  {
   "cell_type": "markdown",
   "metadata": {},
   "source": [
    "#### Wpływ wartości odstających"
   ]
  },
  {
   "cell_type": "code",
   "execution_count": 47,
   "metadata": {
    "vscode": {
     "languageId": "r"
    }
   },
   "outputs": [
    {
     "data": {
      "image/png": "[encoded data removed]",
      "text/plain": [
       "plot without title"
      ]
     },
     "metadata": {
      "image/png": {
       "height": 420,
       "width": 420
      }
     },
     "output_type": "display_data"
    }
   ],
   "source": [
    "# Obliczanie odległości Cooka\n",
    "cooks_distance_chla <- cooks.distance(chla_model)\n",
    "\n",
    "# Wykres odległości Cooka\n",
    "plot(cooks_distance_chla, pch = 19, frame = FALSE, xlab = \"Numer obserwacji\", ylab = \"Odległość Cooka\")\n",
    "abline(h = 4 / nrow(dane_treningowe), col = \"red\", lty = 2)"
   ]
  },
  {
   "cell_type": "markdown",
   "metadata": {},
   "source": [
    "Na wykresie można zauważyć, że 2 obserwacje znacząco wykraczają poza zakres wartości reszt. Wartości te mogą wpływać na jakość modelu. Pozostałe wartości odległości od prostej regresji są niewielkie, co sugeruje, że reszty są w miarę stabilne."
   ]
  },
  {
   "cell_type": "markdown",
   "metadata": {},
   "source": [
    "#### Zdolność predykcyjna modelu"
   ]
  },
  {
   "cell_type": "code",
   "execution_count": 48,
   "metadata": {
    "vscode": {
     "languageId": "r"
    }
   },
   "outputs": [
    {
     "name": "stderr",
     "output_type": "stream",
     "text": [
      "Warning message in predict.lm(chla_model, dane_testowe):\n",
      "\"prediction from rank-deficient fit; attr(*, \"non-estim\") has doubtful cases\"\n"
     ]
    },
    {
     "data": {
      "text/html": [
       "<table class=\"dataframe\">\n",
       "<caption>A tibble: 1 × 7</caption>\n",
       "<thead>\n",
       "\t<tr><th scope=col>RMSE</th><th scope=col>MAE</th><th scope=col>MSE</th><th scope=col>R2</th><th scope=col>Korelacja.Pearsona</th><th scope=col>Korelacja.Spearmana</th><th scope=col>Korelacja.Kendall</th></tr>\n",
       "\t<tr><th scope=col>&lt;dbl&gt;</th><th scope=col>&lt;dbl&gt;</th><th scope=col>&lt;dbl&gt;</th><th scope=col>&lt;dbl&gt;</th><th scope=col>&lt;dbl&gt;</th><th scope=col>&lt;dbl&gt;</th><th scope=col>&lt;dbl&gt;</th></tr>\n",
       "</thead>\n",
       "<tbody>\n",
       "\t<tr><td>13.55824</td><td>11.46468</td><td>183.8258</td><td>-1.610911</td><td>0.6217532</td><td>0.6411765</td><td>0.4666667</td></tr>\n",
       "</tbody>\n",
       "</table>\n"
      ],
      "text/latex": [
       "A tibble: 1 × 7\n",
       "\\begin{tabular}{lllllll}\n",
       " RMSE & MAE & MSE & R2 & Korelacja.Pearsona & Korelacja.Spearmana & Korelacja.Kendall\\\\\n",
       " <dbl> & <dbl> & <dbl> & <dbl> & <dbl> & <dbl> & <dbl>\\\\\n",
       "\\hline\n",
       "\t 13.55824 & 11.46468 & 183.8258 & -1.610911 & 0.6217532 & 0.6411765 & 0.4666667\\\\\n",
       "\\end{tabular}\n"
      ],
      "text/markdown": [
       "\n",
       "A tibble: 1 × 7\n",
       "\n",
       "| RMSE &lt;dbl&gt; | MAE &lt;dbl&gt; | MSE &lt;dbl&gt; | R2 &lt;dbl&gt; | Korelacja.Pearsona &lt;dbl&gt; | Korelacja.Spearmana &lt;dbl&gt; | Korelacja.Kendall &lt;dbl&gt; |\n",
       "|---|---|---|---|---|---|---|\n",
       "| 13.55824 | 11.46468 | 183.8258 | -1.610911 | 0.6217532 | 0.6411765 | 0.4666667 |\n",
       "\n"
      ],
      "text/plain": [
       "  RMSE     MAE      MSE      R2        Korelacja.Pearsona Korelacja.Spearmana\n",
       "1 13.55824 11.46468 183.8258 -1.610911 0.6217532          0.6411765          \n",
       "  Korelacja.Kendall\n",
       "1 0.4666667        "
      ]
     },
     "metadata": {},
     "output_type": "display_data"
    },
    {
     "name": "stderr",
     "output_type": "stream",
     "text": [
      "[ Note: You did not provide dates, so only a numeric index will be used in the time axis ]\n",
      "\n"
     ]
    },
    {
     "data": {
      "image/png": "[encoded data removed]",
      "text/plain": [
       "Plot with title \"Observations vs Simulations\""
      ]
     },
     "metadata": {
      "image/png": {
       "height": 420,
       "width": 420
      }
     },
     "output_type": "display_data"
    }
   ],
   "source": [
    "# porównanie modelu Chl-a z danymi testowymi\n",
    "chla_predicted <- predict(chla_model, dane_testowe)\n",
    "chla_observed <- dane_testowe$chla\n",
    "\n",
    "# tabela z wynikami parametrów modelu\n",
    "chla_model_results <- data.frame(\n",
    "    RMSE = rmse(chla_predicted, chla_observed),\n",
    "    MAE = mae(chla_predicted, chla_observed),\n",
    "    MSE = mse(chla_predicted, chla_observed),\n",
    "    R2 = R2(chla_predicted, chla_observed),\n",
    "    \"Korelacja Pearsona\" = cor(chla_predicted, chla_observed),\n",
    "    \"Korelacja Spearmana\" = cor(chla_predicted, chla_observed, method = \"spearman\"),\n",
    "    \"Korelacja Kendall\" = cor(chla_predicted, chla_observed, method = \"kendall\")\n",
    ")\n",
    "\n",
    "chla_model_results <- tibble(chla_model_results)\n",
    "chla_model_results\n",
    "\n",
    "# hydroGOF\n",
    "ggof(chla_predicted, chla_observed,\n",
    "    gofs = c(\"NSE\", \"rNSE\", \"ME\", \"MSE\",  \"d\", \"RMSE\", \"PBIAS\"),\n",
    "    FUN = mean)"
   ]
  },
  {
   "cell_type": "markdown",
   "metadata": {},
   "source": [
    "Model nie radzi sobie dobrze z przewidywaniem wartości chlorofilu. Niska jakość dopasowania (R² ujemne) i umiarkowane korelacje wskazują na potrzebę poprawy modelu, np. poprzez zmianę zestawu predyktorów, transformację zmiennych, zwiększenie ilości danych lub zastosowanie bardziej zaawansowanych technik modelowania."
   ]
  },
  {
   "cell_type": "markdown",
   "metadata": {},
   "source": [
    "#### Wnioski dotyczące modelu regresji liniowej dla Chlorofilu\n",
    "\n",
    "Gdy analizujemy model regresji liniowej dla zmiennej, która nie została skonstruowana jako liniowa kombinacja innych zmiennych, oczekujemy, że wyniki będą mniej jednoznaczne i bardziej zróżnicowane. W przypadku modelu dla `chla` brak istotnych zależności między zmiennymi sugeruje, że dane te mogą być trudniejsze do przewidzenia i wymagać bardziej złożonych modeli lub dodatkowych zmiennych. Wykres odległości Cooka wskazuje wyraźnie na dwie obserwacje, które znacząco wpływają na model, ewentualne usunięcie tych obserwacji może poprawić jakość modelu, jednak należy to zrobić ostrożnie, aby nie utracić istotnych informacji. Te dwie obserwacje były widoczne również na wykresie QQ plot."
   ]
  },
  {
   "cell_type": "markdown",
   "metadata": {},
   "source": [
    "## Regresja liniowa z wszelkich możliwych kombinacji zmiennych"
   ]
  },
  {
   "cell_type": "markdown",
   "metadata": {},
   "source": [
    "### Utworzenie macierzy binarnej, do tworzenia kombinacji zmiennych"
   ]
  },
  {
   "cell_type": "code",
   "execution_count": 49,
   "metadata": {
    "vscode": {
     "languageId": "r"
    }
   },
   "outputs": [
    {
     "data": {
      "text/html": [
       "<table class=\"dataframe\">\n",
       "<caption>A data.frame: 6 × 7</caption>\n",
       "<thead>\n",
       "\t<tr><th></th><th scope=col>V1</th><th scope=col>V2</th><th scope=col>V3</th><th scope=col>V4</th><th scope=col>V5</th><th scope=col>V6</th><th scope=col>V7</th></tr>\n",
       "\t<tr><th></th><th scope=col>&lt;dbl&gt;</th><th scope=col>&lt;dbl&gt;</th><th scope=col>&lt;dbl&gt;</th><th scope=col>&lt;dbl&gt;</th><th scope=col>&lt;dbl&gt;</th><th scope=col>&lt;dbl&gt;</th><th scope=col>&lt;dbl&gt;</th></tr>\n",
       "</thead>\n",
       "<tbody>\n",
       "\t<tr><th scope=row>2</th><td>1</td><td>0</td><td>0</td><td>0</td><td>0</td><td>0</td><td>0</td></tr>\n",
       "\t<tr><th scope=row>3</th><td>0</td><td>1</td><td>0</td><td>0</td><td>0</td><td>0</td><td>0</td></tr>\n",
       "\t<tr><th scope=row>4</th><td>1</td><td>1</td><td>0</td><td>0</td><td>0</td><td>0</td><td>0</td></tr>\n",
       "\t<tr><th scope=row>5</th><td>0</td><td>0</td><td>1</td><td>0</td><td>0</td><td>0</td><td>0</td></tr>\n",
       "\t<tr><th scope=row>6</th><td>1</td><td>0</td><td>1</td><td>0</td><td>0</td><td>0</td><td>0</td></tr>\n",
       "\t<tr><th scope=row>7</th><td>0</td><td>1</td><td>1</td><td>0</td><td>0</td><td>0</td><td>0</td></tr>\n",
       "</tbody>\n",
       "</table>\n"
      ],
      "text/latex": [
       "A data.frame: 6 × 7\n",
       "\\begin{tabular}{r|lllllll}\n",
       "  & V1 & V2 & V3 & V4 & V5 & V6 & V7\\\\\n",
       "  & <dbl> & <dbl> & <dbl> & <dbl> & <dbl> & <dbl> & <dbl>\\\\\n",
       "\\hline\n",
       "\t2 & 1 & 0 & 0 & 0 & 0 & 0 & 0\\\\\n",
       "\t3 & 0 & 1 & 0 & 0 & 0 & 0 & 0\\\\\n",
       "\t4 & 1 & 1 & 0 & 0 & 0 & 0 & 0\\\\\n",
       "\t5 & 0 & 0 & 1 & 0 & 0 & 0 & 0\\\\\n",
       "\t6 & 1 & 0 & 1 & 0 & 0 & 0 & 0\\\\\n",
       "\t7 & 0 & 1 & 1 & 0 & 0 & 0 & 0\\\\\n",
       "\\end{tabular}\n"
      ],
      "text/markdown": [
       "\n",
       "A data.frame: 6 × 7\n",
       "\n",
       "| <!--/--> | V1 &lt;dbl&gt; | V2 &lt;dbl&gt; | V3 &lt;dbl&gt; | V4 &lt;dbl&gt; | V5 &lt;dbl&gt; | V6 &lt;dbl&gt; | V7 &lt;dbl&gt; |\n",
       "|---|---|---|---|---|---|---|---|\n",
       "| 2 | 1 | 0 | 0 | 0 | 0 | 0 | 0 |\n",
       "| 3 | 0 | 1 | 0 | 0 | 0 | 0 | 0 |\n",
       "| 4 | 1 | 1 | 0 | 0 | 0 | 0 | 0 |\n",
       "| 5 | 0 | 0 | 1 | 0 | 0 | 0 | 0 |\n",
       "| 6 | 1 | 0 | 1 | 0 | 0 | 0 | 0 |\n",
       "| 7 | 0 | 1 | 1 | 0 | 0 | 0 | 0 |\n",
       "\n"
      ],
      "text/plain": [
       "  V1 V2 V3 V4 V5 V6 V7\n",
       "2 1  0  0  0  0  0  0 \n",
       "3 0  1  0  0  0  0  0 \n",
       "4 1  1  0  0  0  0  0 \n",
       "5 0  0  1  0  0  0  0 \n",
       "6 1  0  1  0  0  0  0 \n",
       "7 0  1  1  0  0  0  0 "
      ]
     },
     "metadata": {},
     "output_type": "display_data"
    }
   ],
   "source": [
    "#| code-fold: false\n",
    "# Tworzenie ramki danych z wszelkimi możliwymi kombinacjami wartości 0 i 1 dla 7 kolumn\n",
    "kombinacje <- expand.grid(rep(list(c(0, 1)), 7))\n",
    "colnames(kombinacje) <- paste0(\"V\", 1:7)\n",
    "\n",
    "#  wyrzucenie pierwszego wiersza, który zawiera same zera\n",
    "kombinacje <- kombinacje[-1, ]\n",
    "\n",
    "head(kombinacje)"
   ]
  },
  {
   "cell_type": "markdown",
   "metadata": {},
   "source": [
    "### Regresja liniowa z wszystkimi możliwymi kombinacjami zmiennych"
   ]
  },
  {
   "cell_type": "code",
   "execution_count": 50,
   "metadata": {
    "vscode": {
     "languageId": "r"
    }
   },
   "outputs": [
    {
     "name": "stderr",
     "output_type": "stream",
     "text": [
      "\u001b[1m\u001b[22mNew names:\n",
      "\u001b[36m•\u001b[39m `` -> `...1`\n",
      "\u001b[36m•\u001b[39m `` -> `...2`\n",
      "\u001b[36m•\u001b[39m `` -> `...3`\n",
      "\u001b[36m•\u001b[39m `` -> `...4`\n",
      "\u001b[36m•\u001b[39m `` -> `...5`\n",
      "\u001b[36m•\u001b[39m `` -> `...6`\n",
      "\u001b[36m•\u001b[39m `` -> `...7`\n",
      "\u001b[36m•\u001b[39m `` -> `...8`\n",
      "\u001b[36m•\u001b[39m `` -> `...9`\n",
      "\u001b[36m•\u001b[39m `` -> `...10`\n",
      "\u001b[36m•\u001b[39m `` -> `...11`\n",
      "\u001b[36m•\u001b[39m `` -> `...12`\n",
      "\u001b[36m•\u001b[39m `` -> `...13`\n",
      "\u001b[36m•\u001b[39m `` -> `...14`\n",
      "\u001b[36m•\u001b[39m `` -> `...15`\n",
      "\u001b[36m•\u001b[39m `` -> `...16`\n",
      "\u001b[36m•\u001b[39m `` -> `...17`\n",
      "\u001b[36m•\u001b[39m `` -> `...18`\n",
      "\u001b[36m•\u001b[39m `` -> `...19`\n",
      "\u001b[36m•\u001b[39m `` -> `...20`\n",
      "\u001b[36m•\u001b[39m `` -> `...21`\n",
      "\u001b[36m•\u001b[39m `` -> `...22`\n",
      "\u001b[36m•\u001b[39m `` -> `...23`\n",
      "\u001b[36m•\u001b[39m `` -> `...24`\n",
      "\u001b[36m•\u001b[39m `` -> `...25`\n",
      "\u001b[36m•\u001b[39m `` -> `...26`\n",
      "\u001b[36m•\u001b[39m `` -> `...27`\n",
      "\u001b[36m•\u001b[39m `` -> `...28`\n",
      "\u001b[36m•\u001b[39m `` -> `...29`\n",
      "\u001b[36m•\u001b[39m `` -> `...30`\n",
      "\u001b[36m•\u001b[39m `` -> `...31`\n",
      "\u001b[36m•\u001b[39m `` -> `...32`\n",
      "\u001b[36m•\u001b[39m `` -> `...33`\n",
      "\u001b[36m•\u001b[39m `` -> `...34`\n",
      "\u001b[36m•\u001b[39m `` -> `...35`\n",
      "\u001b[36m•\u001b[39m `` -> `...36`\n",
      "\u001b[36m•\u001b[39m `` -> `...37`\n",
      "\u001b[36m•\u001b[39m `` -> `...38`\n",
      "\u001b[36m•\u001b[39m `` -> `...39`\n",
      "\u001b[36m•\u001b[39m `` -> `...40`\n",
      "\u001b[36m•\u001b[39m `` -> `...41`\n",
      "\u001b[36m•\u001b[39m `` -> `...42`\n",
      "\u001b[36m•\u001b[39m `` -> `...43`\n",
      "\u001b[36m•\u001b[39m `` -> `...44`\n",
      "\u001b[36m•\u001b[39m `` -> `...45`\n",
      "\u001b[36m•\u001b[39m `` -> `...46`\n",
      "\u001b[36m•\u001b[39m `` -> `...47`\n",
      "\u001b[36m•\u001b[39m `` -> `...48`\n",
      "\u001b[36m•\u001b[39m `` -> `...49`\n",
      "\u001b[36m•\u001b[39m `` -> `...50`\n",
      "\u001b[36m•\u001b[39m `` -> `...51`\n",
      "\u001b[36m•\u001b[39m `` -> `...52`\n",
      "\u001b[36m•\u001b[39m `` -> `...53`\n",
      "\u001b[36m•\u001b[39m `` -> `...54`\n",
      "\u001b[36m•\u001b[39m `` -> `...55`\n",
      "\u001b[36m•\u001b[39m `` -> `...56`\n",
      "\u001b[36m•\u001b[39m `` -> `...57`\n",
      "\u001b[36m•\u001b[39m `` -> `...58`\n",
      "\u001b[36m•\u001b[39m `` -> `...59`\n",
      "\u001b[36m•\u001b[39m `` -> `...60`\n",
      "\u001b[36m•\u001b[39m `` -> `...61`\n",
      "\u001b[36m•\u001b[39m `` -> `...62`\n",
      "\u001b[36m•\u001b[39m `` -> `...63`\n",
      "\u001b[36m•\u001b[39m `` -> `...64`\n",
      "\u001b[36m•\u001b[39m `` -> `...65`\n",
      "\u001b[36m•\u001b[39m `` -> `...66`\n",
      "\u001b[36m•\u001b[39m `` -> `...67`\n",
      "\u001b[36m•\u001b[39m `` -> `...68`\n",
      "\u001b[36m•\u001b[39m `` -> `...69`\n",
      "\u001b[36m•\u001b[39m `` -> `...70`\n",
      "\u001b[36m•\u001b[39m `` -> `...71`\n",
      "\u001b[36m•\u001b[39m `` -> `...72`\n",
      "\u001b[36m•\u001b[39m `` -> `...73`\n",
      "\u001b[36m•\u001b[39m `` -> `...74`\n",
      "\u001b[36m•\u001b[39m `` -> `...75`\n",
      "\u001b[36m•\u001b[39m `` -> `...76`\n",
      "\u001b[36m•\u001b[39m `` -> `...77`\n",
      "\u001b[36m•\u001b[39m `` -> `...78`\n",
      "\u001b[36m•\u001b[39m `` -> `...79`\n",
      "\u001b[36m•\u001b[39m `` -> `...80`\n",
      "\u001b[36m•\u001b[39m `` -> `...81`\n",
      "\u001b[36m•\u001b[39m `` -> `...82`\n",
      "\u001b[36m•\u001b[39m `` -> `...83`\n",
      "\u001b[36m•\u001b[39m `` -> `...84`\n",
      "\u001b[36m•\u001b[39m `` -> `...85`\n",
      "\u001b[36m•\u001b[39m `` -> `...86`\n",
      "\u001b[36m•\u001b[39m `` -> `...87`\n",
      "\u001b[36m•\u001b[39m `` -> `...88`\n",
      "\u001b[36m•\u001b[39m `` -> `...89`\n",
      "\u001b[36m•\u001b[39m `` -> `...90`\n",
      "\u001b[36m•\u001b[39m `` -> `...91`\n",
      "\u001b[36m•\u001b[39m `` -> `...92`\n",
      "\u001b[36m•\u001b[39m `` -> `...93`\n",
      "\u001b[36m•\u001b[39m `` -> `...94`\n",
      "\u001b[36m•\u001b[39m `` -> `...95`\n",
      "\u001b[36m•\u001b[39m `` -> `...96`\n",
      "\u001b[36m•\u001b[39m `` -> `...97`\n",
      "\u001b[36m•\u001b[39m `` -> `...98`\n",
      "\u001b[36m•\u001b[39m `` -> `...99`\n",
      "\u001b[36m•\u001b[39m `` -> `...100`\n",
      "\u001b[36m•\u001b[39m `` -> `...101`\n",
      "\u001b[36m•\u001b[39m `` -> `...102`\n",
      "\u001b[36m•\u001b[39m `` -> `...103`\n",
      "\u001b[36m•\u001b[39m `` -> `...104`\n",
      "\u001b[36m•\u001b[39m `` -> `...105`\n",
      "\u001b[36m•\u001b[39m `` -> `...106`\n",
      "\u001b[36m•\u001b[39m `` -> `...107`\n",
      "\u001b[36m•\u001b[39m `` -> `...108`\n",
      "\u001b[36m•\u001b[39m `` -> `...109`\n",
      "\u001b[36m•\u001b[39m `` -> `...110`\n",
      "\u001b[36m•\u001b[39m `` -> `...111`\n",
      "\u001b[36m•\u001b[39m `` -> `...112`\n",
      "\u001b[36m•\u001b[39m `` -> `...113`\n",
      "\u001b[36m•\u001b[39m `` -> `...114`\n",
      "\u001b[36m•\u001b[39m `` -> `...115`\n",
      "\u001b[36m•\u001b[39m `` -> `...116`\n",
      "\u001b[36m•\u001b[39m `` -> `...117`\n",
      "\u001b[36m•\u001b[39m `` -> `...118`\n",
      "\u001b[36m•\u001b[39m `` -> `...119`\n",
      "\u001b[36m•\u001b[39m `` -> `...120`\n",
      "\u001b[36m•\u001b[39m `` -> `...121`\n",
      "\u001b[36m•\u001b[39m `` -> `...122`\n",
      "\u001b[36m•\u001b[39m `` -> `...123`\n",
      "\u001b[36m•\u001b[39m `` -> `...124`\n",
      "\u001b[36m•\u001b[39m `` -> `...125`\n",
      "\u001b[36m•\u001b[39m `` -> `...126`\n",
      "\u001b[36m•\u001b[39m `` -> `...127`\n"
     ]
    },
    {
     "data": {
      "image/png": "[encoded data removed]",
      "text/plain": [
       "plot without title"
      ]
     },
     "metadata": {
      "image/png": {
       "height": 420,
       "width": 420
      }
     },
     "output_type": "display_data"
    }
   ],
   "source": [
    "#| code-fold: false\n",
    "modelowana_kolumna <- \"ITS\"\n",
    "# kolumny do analizy bez wybranej kolumny\n",
    "predyktory <- setdiff(kolumny_do_analizy, modelowana_kolumna)\n",
    "\n",
    "# funkcja, która zwraca wyniki predykcji dla danej kombinacji\n",
    "predict_for_combination <- function(combination, data, model_variable, predictors) {\n",
    "    predictors <- predictors[combination == 1]\n",
    "    model <- lm(as.formula(paste(model_variable, \"~\", paste(predictors, collapse = \" + \"))), data = data)\n",
    "    predicted <- predict(model, data)\n",
    "    return(predicted)\n",
    "}\n",
    "\n",
    "# utworzenie ramki danych z wynikami predykcji dla każdej kombinacji, liczba kolumn zależy od liczby zwróconych predykcji   \n",
    "predictions <- map_dfc(1:nrow(kombinacje), ~predict_for_combination(kombinacje[.x, ], dane, modelowana_kolumna, predyktory))\n",
    "\n",
    "# wizualizacja za pomocą mapy ciepła\n",
    "heatmap(as.matrix(predictions))"
   ]
  },
  {
   "cell_type": "markdown",
   "metadata": {},
   "source": [
    "Na podstawie wyników regresji liniowej z wszystkimi możliwymi kombinacjami zobrazowanych za pomocą heatmapy można stwierdzić, że istnieją kombinacje zmiennych, które będą miały bardzo podobne wyniki, co sugeruje, że niektóre zmienne mogą być zbędne w modelu."
   ]
  },
  {
   "cell_type": "markdown",
   "metadata": {},
   "source": [
    "### Tile plot do wizualizacji wszystkich wyników regresji uzyskanych z kombinacji zmiennych"
   ]
  },
  {
   "cell_type": "code",
   "execution_count": 51,
   "metadata": {
    "vscode": {
     "languageId": "r"
    }
   },
   "outputs": [
    {
     "data": {
      "image/png": "[encoded data removed]",
      "text/plain": [
       "plot without title"
      ]
     },
     "metadata": {
      "image/png": {
       "height": 420,
       "width": 420
      }
     },
     "output_type": "display_data"
    }
   ],
   "source": [
    "# tile plot z wynikami predykcji\n",
    "predictions_long <- predictions %>% \n",
    "    mutate(numer_predykcji = row_number()) %>% \n",
    "    pivot_longer(cols = -numer_predykcji, names_to = \"zmienna\", values_to = \"wartosc\")\n",
    "\n",
    "ggplot(predictions_long, aes(x = numer_predykcji, y = zmienna, fill = wartosc)) +\n",
    "    geom_tile() +\n",
    "    labs(title = \"Tile plot z wynikami predykcji\",\n",
    "         x = \"Numer predykcji\",\n",
    "         y = \"Zmienna\",\n",
    "         fill = \"Wartość predykcji\") +\n",
    "    theme_minimal()"
   ]
  },
  {
   "cell_type": "markdown",
   "metadata": {},
   "source": [
    "Na podstawie tile plot można zauważyć, że niektóre kombinacje zmiennych słabo radzą sobie z predykcją wartości ITS, w porównaniu do większości innych kombinacji. Można stwierdzić, że jest to około 15% wszystkich kombinacji zmiennych. Prawdopodobnie te kombinacje nie zawierają `ph` lub `nas`, które są kluczowe dla predykcji ITS."
   ]
  },
  {
   "cell_type": "markdown",
   "metadata": {},
   "source": [
    "### Jitter plot do wizualizacji wszystkich wyników regresji uzyskanych z kombinacji zmiennych, z wyróżnieniem rzeczywistych wartości"
   ]
  },
  {
   "cell_type": "markdown",
   "metadata": {},
   "source": [
    "Rzeczywiste wartości `ITS` są zaznaczone na wykresie jako większe żółte punkty, punkty w pozostałych kolorach reprezentują predykcje modelu dla danej kombinacji zmiennych."
   ]
  },
  {
   "cell_type": "code",
   "execution_count": 52,
   "metadata": {
    "vscode": {
     "languageId": "r"
    }
   },
   "outputs": [
    {
     "data": {
      "image/png": "[encoded data removed]",
      "text/plain": [
       "plot without title"
      ]
     },
     "metadata": {
      "image/png": {
       "height": 420,
       "width": 420
      }
     },
     "output_type": "display_data"
    }
   ],
   "source": [
    "# jitter plot z wynikami predykcji z prawdziwymi wartościami ITS\n",
    "ggplot(predictions_long, aes(x = numer_predykcji, y = wartosc, color = zmienna)) +\n",
    "    geom_point(data = dane, aes(x = 1:nrow(dane), y = ITS), color = \"yellow\", size = 5) +\n",
    "    geom_jitter(width = 0.2, height = 0) +\n",
    "    labs(title = \"Jitter plot z wynikami predykcji i prawdziwymi wartościami ITS\",\n",
    "         x = \"Numer predykcji\",\n",
    "         y = \"Wartość predykcji\",\n",
    "         color = \"Zmienna\") +\n",
    "    theme_minimal() +\n",
    "    theme(legend.position = \"none\")"
   ]
  },
  {
   "cell_type": "markdown",
   "metadata": {},
   "source": [
    " Na podstawie wykresu można stwierdzić, że niektóre kombinacje zmiennych lepiej przewidują wartości `ITS`, podczas gdy inne mają większe odchylenia od rzeczywistych wartości."
   ]
  },
  {
   "cell_type": "markdown",
   "metadata": {},
   "source": [
    "## Predykcja ITS i Chlorofilu za pomocą SVM"
   ]
  },
  {
   "cell_type": "markdown",
   "metadata": {},
   "source": [
    "### Utowrzenie modelu SVM oraz wizualizacja wpasowania modelu"
   ]
  },
  {
   "cell_type": "code",
   "execution_count": 53,
   "metadata": {
    "vscode": {
     "languageId": "r"
    }
   },
   "outputs": [
    {
     "data": {
      "image/png": "[encoded data removed]",
      "text/plain": [
       "plot without title"
      ]
     },
     "metadata": {
      "image/png": {
       "height": 420,
       "width": 420
      }
     },
     "output_type": "display_data"
    }
   ],
   "source": [
    "# Predykcja ITS za pomocą metody SVM\n",
    "\n",
    "# trenowanie modelu\n",
    "model_svm <- svm(ITS ~ ., data = dane_treningowe, kernel = \"linear\")\n",
    "\n",
    "# predykcja\n",
    "predicted_svm <- predict(model_svm, dane_testowe)\n",
    "\n",
    "# tablica kontyngencji\n",
    "tablica_kontyngencji <- table(predicted_svm, dane_testowe$ITS)\n",
    "\n",
    "# wizualizacja wyników predykcji\n",
    "ggplot(dane_testowe, aes(x = ITS, y = predicted_svm)) +\n",
    "\tgeom_point() +\n",
    "\tgeom_abline(slope = 1, intercept = 0, linetype = \"dashed\", color = \"red\") +\n",
    "\tlabs(title = \"Predykcja ITS za pomocą SVM\",\n",
    "\t\t x = \"Rzeczywiste wartości ITS\",\n",
    "\t\t y = \"Przewidywane wartości ITS\") +\n",
    "\ttheme_minimal()\n"
   ]
  },
  {
   "cell_type": "markdown",
   "metadata": {},
   "source": [
    "Dzięki wizualizacji można stwierdzić, że model SVM dla predykcji ITS dobrze dopasowuje się do danych treningowych, co sugeruje, że model jest w stanie przewidzieć wartości ITS na podstawie dostępnych zmiennych."
   ]
  },
  {
   "cell_type": "markdown",
   "metadata": {},
   "source": [
    "### Predykcja ITS za pomocą modelu SVM"
   ]
  },
  {
   "cell_type": "code",
   "execution_count": 54,
   "metadata": {
    "vscode": {
     "languageId": "r"
    }
   },
   "outputs": [
    {
     "name": "stderr",
     "output_type": "stream",
     "text": [
      "[ Note: You did not provide dates, so only a numeric index will be used in the time axis ]\n",
      "\n"
     ]
    },
    {
     "data": {
      "image/png": "[encoded data removed]",
      "text/plain": [
       "Plot with title \"Observations vs Simulations\""
      ]
     },
     "metadata": {
      "image/png": {
       "height": 420,
       "width": 420
      }
     },
     "output_type": "display_data"
    }
   ],
   "source": [
    "# ocena predykcji za pomocą hydroGOF\n",
    "\n",
    "ggof(predicted_svm, dane_testowe$ITS,\n",
    "    gofs = c(\"NSE\", \"rNSE\", \"ME\", \"MSE\",  \"d\", \"RMSE\", \"PBIAS\"),\n",
    "    FUN = mean)     "
   ]
  },
  {
   "cell_type": "markdown",
   "metadata": {},
   "source": [
    "Możemy zaobserwować, że model SVM dobrze przewiduje wartości ITS i przy okazji zwrócić uwagę na statystyki oceny jakości modelu, które wskazują na wysoką skuteczność predykcji."
   ]
  },
  {
   "cell_type": "markdown",
   "metadata": {},
   "source": [
    "### Utowrzenie modelu SVM oraz wizualizacja wpasowania modelu"
   ]
  },
  {
   "cell_type": "code",
   "execution_count": 55,
   "metadata": {
    "vscode": {
     "languageId": "r"
    }
   },
   "outputs": [
    {
     "data": {
      "image/png": "[encoded data removed]",
      "text/plain": [
       "plot without title"
      ]
     },
     "metadata": {
      "image/png": {
       "height": 420,
       "width": 420
      }
     },
     "output_type": "display_data"
    }
   ],
   "source": [
    "# Predykcja Chlorofilu za pomocą metody SVM\n",
    "\n",
    "# trenowanie modelu\n",
    "model_svm_chla <- svm(chla ~ ., data = dane_treningowe, kernel = \"linear\")\n",
    "\n",
    "# predykcja\n",
    "predicted_svm_chla <- predict(model_svm_chla, dane_testowe)\n",
    "\n",
    "# tablica kontyngencji\n",
    "tablica_kontyngencji_chla <- table(predicted_svm_chla, dane_testowe$chla)\n",
    "\n",
    "# wizualizacja wyników predykcji\n",
    "ggplot(dane_testowe, aes(x = chla, y = predicted_svm_chla)) +\n",
    "    geom_point() +\n",
    "    geom_abline(slope = 1, intercept = 0, linetype = \"dashed\", color = \"red\") +\n",
    "    labs(title = \"Predykcja Chl-a za pomocą SVM\",\n",
    "         x = \"Rzeczywiste wartości Chl-a\",\n",
    "         y = \"Przewidywane wartości Chl-a\") +\n",
    "    theme_minimal()"
   ]
  },
  {
   "cell_type": "markdown",
   "metadata": {},
   "source": [
    "Na podstawie wizualizacji można stwierdzić, że model SVM dla predykcji Chlorofilu nie sprawdza się. Punkty na wykresie są rozproszone w sposób losowy względem linii, co sugeruje, że model nie jest w stanie przewidzieć wartości Chlorofilu na podstawie dostępnych zmiennych."
   ]
  },
  {
   "cell_type": "code",
   "execution_count": 56,
   "metadata": {
    "vscode": {
     "languageId": "r"
    }
   },
   "outputs": [
    {
     "name": "stderr",
     "output_type": "stream",
     "text": [
      "[ Note: You did not provide dates, so only a numeric index will be used in the time axis ]\n",
      "\n"
     ]
    },
    {
     "data": {
      "image/png": "[encoded data removed]",
      "text/plain": [
       "Plot with title \"Observations vs Simulations\""
      ]
     },
     "metadata": {
      "image/png": {
       "height": 420,
       "width": 420
      }
     },
     "output_type": "display_data"
    }
   ],
   "source": [
    "# ocena predykcji za pomocą hydroGOF\n",
    "\n",
    "ggof(predicted_svm_chla, dane_testowe$chla,\n",
    "    gofs = c(\"NSE\", \"rNSE\", \"ME\", \"MSE\",  \"d\", \"RMSE\", \"PBIAS\"),\n",
    "    FUN = mean)"
   ]
  },
  {
   "cell_type": "markdown",
   "metadata": {},
   "source": [
    "Możemy zaobserwować jak wyglądają dysproporcje między wartościami rzeczywistymi a przewidywanymi przez model SVM dla Chlorofilu. Dodatkowo, warto zwrócić uwagę na statystyki oceny jakości modelu, które wskazują na niską skuteczność predykcji."
   ]
  },
  {
   "cell_type": "markdown",
   "metadata": {},
   "source": [
    "## Końcowe wnioski\n",
    "\n",
    "Na podstawie przeprowadzonych analiz można wyciągnąć następujące wnioski:\n",
    "\n",
    "1. **Testy wartości odstających**: Przeprowadzone testy Grubbsa, Dixona zostały poparte metodą IQR. Jednak przy wyrzucaniu wartości odstających z danych, należy zachować ostrożność i zwrócić uwagę na potencjalne błędy pomiarowe lub specyficzne przypadki w danych.\n",
    "\n",
    "2. **Korelacje**: Zarówno korelacja Pearsona, jak i Spearmana potwierdziły istnienie silnych zależności między określonymi parami zmiennych. Jednak analiza korelacji Spearmana pozwoliła na identyfikację dwóch dodatkowych związków, o około 0,1 silniejszych, z udziałem zmiennej `chla`.\n",
    "\n",
    "3. **Autokorelacja**: W analizie autokorelacji nie wykryto istotnych zależności, co sugeruje, że wartości w szeregu czasowym nie są ze sobą skorelowane.\n",
    "\n",
    "4. **Regresja liniowa**: Model regresji liniowej dla zmiennej `ITS` okazał się bardzo skuteczny, co nie jest zaskakujące, biorąc pod uwagę liniową zależność między `ITS`, `ph` i `nas`. Natomiast model dla zmiennej `chla` nie wykazał istotnych zależności, co sugeruje, że dane te mogą być trudniejsze do przewidzenia.\n",
    "\n",
    "5. **Regresja z kombinacjami zmiennych**: Analiza regresji z wszystkimi możliwymi kombinacjami zmiennych pokazała, że wybór odpowiednich zmiennych jest kluczowy dla skuteczności modelu. Niektóre kombinacje zmiennych radzą sobie lepiej z predykcją wartości `ITS`, podczas gdy inne mają większe odchylenia od rzeczywistych wartości.\n",
    "\n",
    "6. **SVM**: Model SVM dla predykcji `ITS` okazał się skuteczny, co potwierdza wysoką jakość predykcji. Natomiast model dla predykcji `chla` nie sprawdził się, co sugeruje, że dane te mogą być trudniejsze do przewidzenia.\n",
    "\n"
   ]
  }
 ],
 "metadata": {
  "kernelspec": {
   "display_name": "R",
   "language": "R",
   "name": "ir"
  },
  "language_info": {
   "codemirror_mode": "r",
   "file_extension": ".r",
   "mimetype": "text/x-r-source",
   "name": "R",
   "pygments_lexer": "r",
   "version": "4.3.1"
  }
 },
 "nbformat": 4,
 "nbformat_minor": 2
}
